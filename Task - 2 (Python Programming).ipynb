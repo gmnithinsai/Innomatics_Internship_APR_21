{
 "cells": [
  {
   "cell_type": "markdown",
   "metadata": {},
   "source": [
    "# Task - 2 (Python Programming)\n"
   ]
  },
  {
   "cell_type": "markdown",
   "metadata": {},
   "source": [
    "## 1. Nested List"
   ]
  },
  {
   "cell_type": "code",
   "execution_count": 33,
   "metadata": {},
   "outputs": [
    {
     "name": "stdout",
     "output_type": "stream",
     "text": [
      "3\n",
      "nithin\n",
      "23\n",
      "sai\n",
      "25\n",
      "gur\n",
      "1\n",
      "nithin\n"
     ]
    }
   ],
   "source": [
    "n=int(input())\n",
    "s=[]\n",
    "for i in range(n):\n",
    "    name=input()\n",
    "    score=float(input())\n",
    "    s.append([name,score])\n",
    "x=[]\n",
    "for i in range(len(s)):\n",
    "    x.append(s[i][1])\n",
    "y=set(x)\n",
    "d=list(y)\n",
    "d.sort()\n",
    "a=d[1]\n",
    "s.sort()\n",
    "for i in range(len(s)):\n",
    "    if s[i][1]==a:\n",
    "        print(s[i][0])\n"
   ]
  },
  {
   "cell_type": "markdown",
   "metadata": {},
   "source": [
    "## 2. List Comprehensions"
   ]
  },
  {
   "cell_type": "code",
   "execution_count": 34,
   "metadata": {},
   "outputs": [
    {
     "name": "stdout",
     "output_type": "stream",
     "text": [
      "1\n",
      "2\n",
      "3\n",
      "2\n",
      "[[0, 0, 0], [0, 0, 1], [0, 0, 3], [0, 1, 0], [0, 1, 2], [0, 1, 3], [0, 2, 1], [0, 2, 2], [0, 2, 3], [1, 0, 0], [1, 0, 2], [1, 0, 3], [1, 1, 1], [1, 1, 2], [1, 1, 3], [1, 2, 0], [1, 2, 1], [1, 2, 2], [1, 2, 3]]\n"
     ]
    }
   ],
   "source": [
    "x = int(input())\n",
    "y = int(input())\n",
    "z = int(input())\n",
    "n = int(input())\n",
    "a=[]\n",
    "for i in range(x+1):\n",
    "    for j in range(y+1):\n",
    "        for k in range(z+1):\n",
    "            if (i+j+k)!=n:\n",
    "                a.append([i,j,k])\n",
    "print(a)"
   ]
  },
  {
   "cell_type": "markdown",
   "metadata": {},
   "source": [
    "## 3. Finding the Percentage"
   ]
  },
  {
   "cell_type": "code",
   "execution_count": null,
   "metadata": {},
   "outputs": [],
   "source": [
    "n = int(input())\n",
    "student_marks = {}\n",
    "for _ in range(n):\n",
    "    name, *line = input().split()\n",
    "    scores = list(map(float, line))\n",
    "    student_marks[name] = scores\n",
    "query_name = input()\n",
    "print(\"{:.2f}\".format(sum(student_marks.get(query_name))/3))\n",
    "\n"
   ]
  },
  {
   "cell_type": "markdown",
   "metadata": {},
   "source": [
    "## 4. Lists"
   ]
  },
  {
   "cell_type": "code",
   "execution_count": 12,
   "metadata": {},
   "outputs": [
    {
     "name": "stdout",
     "output_type": "stream",
     "text": [
      "4\n",
      "insert 1\n",
      "insert 2\n",
      "insert 3\n",
      "print\n",
      "[1, 2, 3]\n"
     ]
    }
   ],
   "source": [
    "n=int(input())\n",
    "cmd=[]\n",
    "lst=[]\n",
    "for _ in range(n):\n",
    "    a=input().split()\n",
    "    cmd.append(a)\n",
    "    \n",
    "for i in range(n):\n",
    "    if cmd[i][0]==\"insert\":\n",
    "        lst.insert(int(cmd[i][1]),int(cmd[i][-1]))\n",
    "    elif cmd[i][0]==\"remove\":\n",
    "        lst.remove(int(cmd[i][-1]))\n",
    "    elif cmd[i][0]==\"sort\":\n",
    "        lst.sort()\n",
    "    elif cmd[i][0]==\"append\":\n",
    "        lst.append(int(cmd[i][-1]))\n",
    "    elif cmd[i][0]==\"print\":\n",
    "        print(lst)\n",
    "    elif cmd[i][0]==\"pop\":\n",
    "        lst.pop()\n",
    "    else:\n",
    "        lst.reverse()\n",
    "        \n",
    "        "
   ]
  },
  {
   "cell_type": "markdown",
   "metadata": {},
   "source": [
    "## 5. Tuples"
   ]
  },
  {
   "cell_type": "code",
   "execution_count": 31,
   "metadata": {},
   "outputs": [
    {
     "name": "stdout",
     "output_type": "stream",
     "text": [
      "2\n",
      "1 3\n",
      "-1440771752368011620\n"
     ]
    }
   ],
   "source": [
    "n=int(input())\n",
    "tuple_elements=map(int,input().split())\n",
    "t=tuple(tuple_elements)\n",
    "if len(t)>n:\n",
    "    t=t[0:2]\n",
    "    \n",
    "print(hash(t))"
   ]
  },
  {
   "cell_type": "markdown",
   "metadata": {},
   "source": [
    "## 6. Introduction to Sets"
   ]
  },
  {
   "cell_type": "code",
   "execution_count": 34,
   "metadata": {},
   "outputs": [
    {
     "name": "stdout",
     "output_type": "stream",
     "text": [
      "4\n",
      "1 2 3 4 5\n",
      "2.500\n",
      "None\n"
     ]
    }
   ],
   "source": [
    "def average(array):\n",
    "    a=set(array)\n",
    "    print(\"{:.3f}\".format(sum(a)/len(a)))\n",
    "n=int(input())\n",
    "lst=list(map(int,input().split()))\n",
    "if len(lst)>n:\n",
    "    lst=lst[0:n]\n",
    "print(average(lst))"
   ]
  },
  {
   "cell_type": "markdown",
   "metadata": {},
   "source": [
    "## 7. Find the Runner up score"
   ]
  },
  {
   "cell_type": "code",
   "execution_count": null,
   "metadata": {},
   "outputs": [],
   "source": [
    "n = int(input())\n",
    "arr = map(int, input().split())\n",
    "a=list(set(arr))\n",
    "b=max(a)\n",
    "a.remove(b)\n",
    "print(max(a))\n"
   ]
  },
  {
   "cell_type": "markdown",
   "metadata": {},
   "source": [
    "## 8. Symmetric Difference"
   ]
  },
  {
   "cell_type": "code",
   "execution_count": 6,
   "metadata": {},
   "outputs": [
    {
     "name": "stdout",
     "output_type": "stream",
     "text": [
      "4\n",
      "2 4 5 9\n",
      "4\n",
      "2 4 1 12\n",
      "1\n",
      "5\n",
      "9\n",
      "12\n"
     ]
    }
   ],
   "source": [
    "m=int(input())\n",
    "a=set(map(int,input().split()))\n",
    "n=int(input())\n",
    "b=set(map(int,input().split())) \n",
    "e=a.difference(b).union(b.difference(a))\n",
    "f=list(e)\n",
    "f.sort()\n",
    "for i in range(len(e)):\n",
    "    print(f[i])\n",
    "    "
   ]
  },
  {
   "cell_type": "markdown",
   "metadata": {},
   "source": [
    "## 9. Set.add()"
   ]
  },
  {
   "cell_type": "code",
   "execution_count": 7,
   "metadata": {},
   "outputs": [
    {
     "name": "stdout",
     "output_type": "stream",
     "text": [
      "4\n",
      "nit\n",
      "ee\n",
      "ee\n",
      "ee\n",
      "2\n"
     ]
    }
   ],
   "source": [
    "s=set()\n",
    "n=int(input())\n",
    "for _ in range(n):\n",
    "    s.add(input())\n",
    "print(len(s))"
   ]
  },
  {
   "cell_type": "markdown",
   "metadata": {},
   "source": [
    "## 10. Set.discard(), Set.remove(), Set.pop()"
   ]
  },
  {
   "cell_type": "code",
   "execution_count": 8,
   "metadata": {},
   "outputs": [
    {
     "name": "stdout",
     "output_type": "stream",
     "text": [
      "5\n",
      "1 2 3 4 5\n",
      "2\n",
      "discard 3\n",
      "pop\n",
      "11\n"
     ]
    }
   ],
   "source": [
    "n = int(input())\n",
    "s = set(map(int, input().split()))\n",
    "k=int(input())\n",
    "cmd=[]\n",
    "for _ in range(k):\n",
    "    cmd.append(list(map(str,input().split())))\n",
    "for i in range(k):\n",
    "    if cmd[i][0]==\"remove\":\n",
    "        s.remove(int(cmd[i][1]))\n",
    "    elif cmd[i][0]==\"discard\":\n",
    "        s.discard(int(cmd[i][1]))\n",
    "    else:\n",
    "        s.pop()\n",
    "print(sum(s))"
   ]
  },
  {
   "cell_type": "markdown",
   "metadata": {},
   "source": [
    "## 11. Set.union() "
   ]
  },
  {
   "cell_type": "code",
   "execution_count": 9,
   "metadata": {},
   "outputs": [
    {
     "name": "stdout",
     "output_type": "stream",
     "text": [
      "4\n",
      "1 2 3 4\n",
      "5\n",
      "6 7 8 9 10\n",
      "9\n"
     ]
    }
   ],
   "source": [
    "m=int(input())\n",
    "s1=set(map(int,input().split()))\n",
    "n=int(input())\n",
    "s2=set(map(int,input().split()))\n",
    "print(len(s1.union(s2)))"
   ]
  },
  {
   "cell_type": "markdown",
   "metadata": {},
   "source": [
    "## 12. Set.intersection()"
   ]
  },
  {
   "cell_type": "code",
   "execution_count": 10,
   "metadata": {},
   "outputs": [
    {
     "name": "stdout",
     "output_type": "stream",
     "text": [
      "3\n",
      "1 2 3\n",
      "4\n",
      "2 3 4 5\n",
      "2\n"
     ]
    }
   ],
   "source": [
    "m=int(input())\n",
    "s1=set(map(int,input().split()))\n",
    "n=int(input())\n",
    "s2=set(map(int,input().split()))\n",
    "print(len(s1.intersection(s2)))"
   ]
  },
  {
   "cell_type": "markdown",
   "metadata": {},
   "source": [
    "## 13. Set.difference()"
   ]
  },
  {
   "cell_type": "code",
   "execution_count": 11,
   "metadata": {},
   "outputs": [
    {
     "name": "stdout",
     "output_type": "stream",
     "text": [
      "3\n",
      "1 2 3\n",
      "3\n",
      "1 2 7\n",
      "1\n"
     ]
    }
   ],
   "source": [
    "m=int(input())\n",
    "s1=set(map(int,input().split()))\n",
    "n=int(input())\n",
    "s2=set(map(int,input().split()))\n",
    "print(len(s1.difference(s2)))"
   ]
  },
  {
   "cell_type": "markdown",
   "metadata": {},
   "source": [
    "## 14. Captain's Room"
   ]
  },
  {
   "cell_type": "code",
   "execution_count": 5,
   "metadata": {},
   "outputs": [
    {
     "name": "stdout",
     "output_type": "stream",
     "text": [
      "4\n",
      "1 1 1 3\n",
      "3\n"
     ]
    }
   ],
   "source": [
    "n=int(input())\n",
    "seta=list(map(int,input().split()))\n",
    "a=seta[0::2]\n",
    "b=seta[1::2]\n",
    "print(set(a).symmetric_difference(set(b)).pop())\n"
   ]
  },
  {
   "cell_type": "markdown",
   "metadata": {},
   "source": [
    "## 15. Check subset "
   ]
  },
  {
   "cell_type": "code",
   "execution_count": 20,
   "metadata": {},
   "outputs": [
    {
     "name": "stdout",
     "output_type": "stream",
     "text": [
      "1\n",
      "3\n",
      "1 2 3\n",
      "5\n",
      "1 3 2 4 5\n",
      "True\n"
     ]
    }
   ],
   "source": [
    "t=int(input())\n",
    "for _ in range(t):\n",
    "    n=int(input())\n",
    "    a=set(map(int,input().split()))\n",
    "    m=int(input())\n",
    "    b=set(map(int,input().split()))\n",
    "    if a.intersection(b)==a:\n",
    "        print(\"True\")\n",
    "    else:\n",
    "        print(\"False\")"
   ]
  },
  {
   "cell_type": "markdown",
   "metadata": {},
   "source": [
    "## 16. Check Strict Super Set"
   ]
  },
  {
   "cell_type": "code",
   "execution_count": 6,
   "metadata": {},
   "outputs": [
    {
     "name": "stdout",
     "output_type": "stream",
     "text": [
      "1 2 3 4\n",
      "2\n",
      "1 2\n",
      "2 3\n",
      "True\n"
     ]
    }
   ],
   "source": [
    "seta=set(map(int,input().split()))\n",
    "n=int(input())\n",
    "setb=[]\n",
    "count=0\n",
    "for i in range(n):\n",
    "    setb.append(set(map(int,input().split())))\n",
    "    if seta.intersection(setb[i])==setb[i]:\n",
    "        count+=1\n",
    "    else:\n",
    "        count-=1\n",
    "if count==n:\n",
    "    print(\"True\")\n",
    "else:\n",
    "    print(\"False\")"
   ]
  },
  {
   "cell_type": "markdown",
   "metadata": {},
   "source": [
    "## 17. Set Mutations"
   ]
  },
  {
   "cell_type": "code",
   "execution_count": 8,
   "metadata": {},
   "outputs": [
    {
     "name": "stdout",
     "output_type": "stream",
     "text": [
      "4\n",
      "1 2 3 4\n",
      "1\n",
      "update 6\n",
      "5 6 7 8 9 0\n",
      "45\n"
     ]
    }
   ],
   "source": [
    "\n",
    "k=int(input())\n",
    "seta=set(map(int,input().split()))\n",
    "n=int(input())\n",
    "data=[]\n",
    "cmd=[]\n",
    "for _ in range(n):\n",
    "    c=input().split()\n",
    "    cmd.append(c)\n",
    "    data.append(set(map(int,input().split())))\n",
    "for i in range(n):\n",
    "    if cmd[i][0]==\"intersection_update\":\n",
    "        seta.intersection_update(data[i])\n",
    "    elif cmd[i][0]==\"symmetric_difference_update\":\n",
    "        seta.symmetric_difference_update(data[i])\n",
    "    elif cmd[i][0]==\"update\":\n",
    "        seta.update(data[i])\n",
    "    else:\n",
    "        seta.difference_update(data[i])\n",
    "print(sum(seta))"
   ]
  },
  {
   "cell_type": "markdown",
   "metadata": {},
   "source": [
    "## 18. Set.symmetric_difference() "
   ]
  },
  {
   "cell_type": "code",
   "execution_count": 9,
   "metadata": {},
   "outputs": [
    {
     "name": "stdout",
     "output_type": "stream",
     "text": [
      "4\n",
      "1 2 3 4\n",
      "3\n",
      "1 2 3\n",
      "1\n"
     ]
    }
   ],
   "source": [
    "m=int(input())\n",
    "seta=set(map(int,input().split()))\n",
    "n=int(input())\n",
    "setb=set(map(int,input().split()))\n",
    "print(len(seta.symmetric_difference(setb)))"
   ]
  },
  {
   "cell_type": "code",
   "execution_count": 5,
   "metadata": {},
   "outputs": [
    {
     "name": "stdout",
     "output_type": "stream",
     "text": [
      "{3}\n",
      "{3, 4}\n",
      "{3, 4}\n"
     ]
    }
   ],
   "source": [
    "a={1,2,3}\n",
    "b={1,2,4}\n",
    "c=a.difference(b)\n",
    "print(c)\n",
    "#print(b.differece(a))\n",
    "print(a^b)\n",
    "print(a.symmetric_difference(b))\n"
   ]
  },
  {
   "cell_type": "markdown",
   "metadata": {},
   "source": [
    "## 19. No Idea!"
   ]
  },
  {
   "cell_type": "code",
   "execution_count": 10,
   "metadata": {},
   "outputs": [
    {
     "name": "stdout",
     "output_type": "stream",
     "text": [
      "3 2\n",
      "1 2 3\n",
      "1 2\n",
      "1 4\n",
      "1\n"
     ]
    }
   ],
   "source": [
    "a= input()\n",
    "setx = input().split()\n",
    "seta = set(input().split())\n",
    "setb = set(input().split())\n",
    "print(sum([(i in seta)-(i in setb) for i in setx]))"
   ]
  },
  {
   "cell_type": "code",
   "execution_count": null,
   "metadata": {},
   "outputs": [],
   "source": []
  }
 ],
 "metadata": {
  "kernelspec": {
   "display_name": "Python 3",
   "language": "python",
   "name": "python3"
  },
  "language_info": {
   "codemirror_mode": {
    "name": "ipython",
    "version": 3
   },
   "file_extension": ".py",
   "mimetype": "text/x-python",
   "name": "python",
   "nbconvert_exporter": "python",
   "pygments_lexer": "ipython3",
   "version": "3.8.5"
  }
 },
 "nbformat": 4,
 "nbformat_minor": 4
}
