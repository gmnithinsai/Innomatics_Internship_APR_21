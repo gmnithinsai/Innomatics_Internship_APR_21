{
 "cells": [
  {
   "cell_type": "markdown",
   "id": "3e78de5a",
   "metadata": {},
   "source": [
    "## Let's know about the data"
   ]
  },
  {
   "cell_type": "code",
   "execution_count": 1,
   "id": "1e9171a9",
   "metadata": {},
   "outputs": [],
   "source": [
    "import pandas as pd"
   ]
  },
  {
   "cell_type": "code",
   "execution_count": 2,
   "id": "09e5a54a",
   "metadata": {
    "scrolled": true
   },
   "outputs": [],
   "source": [
    "df=pd.read_csv(r'data.csv')"
   ]
  },
  {
   "cell_type": "code",
   "execution_count": 3,
   "id": "dd25fcf3",
   "metadata": {},
   "outputs": [
    {
     "data": {
      "text/plain": [
       "(50, 7)"
      ]
     },
     "execution_count": 3,
     "metadata": {},
     "output_type": "execute_result"
    }
   ],
   "source": [
    "df.shape"
   ]
  },
  {
   "cell_type": "code",
   "execution_count": 4,
   "id": "ab1e94c7",
   "metadata": {
    "scrolled": true
   },
   "outputs": [
    {
     "data": {
      "text/html": [
       "<div>\n",
       "<style scoped>\n",
       "    .dataframe tbody tr th:only-of-type {\n",
       "        vertical-align: middle;\n",
       "    }\n",
       "\n",
       "    .dataframe tbody tr th {\n",
       "        vertical-align: top;\n",
       "    }\n",
       "\n",
       "    .dataframe thead th {\n",
       "        text-align: right;\n",
       "    }\n",
       "</style>\n",
       "<table border=\"1\" class=\"dataframe\">\n",
       "  <thead>\n",
       "    <tr style=\"text-align: right;\">\n",
       "      <th></th>\n",
       "      <th>Mthly_HH_Income</th>\n",
       "      <th>Mthly_HH_Expense</th>\n",
       "      <th>No_of_Fly_Members</th>\n",
       "      <th>Emi_or_Rent_Amt</th>\n",
       "      <th>Annual_HH_Income</th>\n",
       "      <th>Highest_Qualified_Member</th>\n",
       "      <th>No_of_Earning_Members</th>\n",
       "    </tr>\n",
       "  </thead>\n",
       "  <tbody>\n",
       "    <tr>\n",
       "      <th>2</th>\n",
       "      <td>10000</td>\n",
       "      <td>4500</td>\n",
       "      <td>2</td>\n",
       "      <td>0</td>\n",
       "      <td>112800</td>\n",
       "      <td>Under-Graduate</td>\n",
       "      <td>1</td>\n",
       "    </tr>\n",
       "    <tr>\n",
       "      <th>15</th>\n",
       "      <td>25000</td>\n",
       "      <td>12300</td>\n",
       "      <td>3</td>\n",
       "      <td>0</td>\n",
       "      <td>246000</td>\n",
       "      <td>Graduate</td>\n",
       "      <td>1</td>\n",
       "    </tr>\n",
       "    <tr>\n",
       "      <th>28</th>\n",
       "      <td>42000</td>\n",
       "      <td>15000</td>\n",
       "      <td>4</td>\n",
       "      <td>0</td>\n",
       "      <td>488880</td>\n",
       "      <td>Graduate</td>\n",
       "      <td>1</td>\n",
       "    </tr>\n",
       "    <tr>\n",
       "      <th>13</th>\n",
       "      <td>24000</td>\n",
       "      <td>10500</td>\n",
       "      <td>6</td>\n",
       "      <td>0</td>\n",
       "      <td>316800</td>\n",
       "      <td>Graduate</td>\n",
       "      <td>2</td>\n",
       "    </tr>\n",
       "    <tr>\n",
       "      <th>33</th>\n",
       "      <td>45000</td>\n",
       "      <td>22000</td>\n",
       "      <td>4</td>\n",
       "      <td>2500</td>\n",
       "      <td>610200</td>\n",
       "      <td>Post-Graduate</td>\n",
       "      <td>1</td>\n",
       "    </tr>\n",
       "    <tr>\n",
       "      <th>5</th>\n",
       "      <td>14000</td>\n",
       "      <td>8000</td>\n",
       "      <td>2</td>\n",
       "      <td>0</td>\n",
       "      <td>196560</td>\n",
       "      <td>Graduate</td>\n",
       "      <td>1</td>\n",
       "    </tr>\n",
       "    <tr>\n",
       "      <th>25</th>\n",
       "      <td>35000</td>\n",
       "      <td>25000</td>\n",
       "      <td>4</td>\n",
       "      <td>0</td>\n",
       "      <td>449400</td>\n",
       "      <td>Professional</td>\n",
       "      <td>2</td>\n",
       "    </tr>\n",
       "    <tr>\n",
       "      <th>29</th>\n",
       "      <td>43000</td>\n",
       "      <td>12000</td>\n",
       "      <td>4</td>\n",
       "      <td>0</td>\n",
       "      <td>619200</td>\n",
       "      <td>Graduate</td>\n",
       "      <td>1</td>\n",
       "    </tr>\n",
       "    <tr>\n",
       "      <th>24</th>\n",
       "      <td>35000</td>\n",
       "      <td>12000</td>\n",
       "      <td>3</td>\n",
       "      <td>0</td>\n",
       "      <td>466200</td>\n",
       "      <td>Graduate</td>\n",
       "      <td>1</td>\n",
       "    </tr>\n",
       "    <tr>\n",
       "      <th>35</th>\n",
       "      <td>47000</td>\n",
       "      <td>15000</td>\n",
       "      <td>7</td>\n",
       "      <td>0</td>\n",
       "      <td>456840</td>\n",
       "      <td>Professional</td>\n",
       "      <td>4</td>\n",
       "    </tr>\n",
       "    <tr>\n",
       "      <th>46</th>\n",
       "      <td>98000</td>\n",
       "      <td>25000</td>\n",
       "      <td>5</td>\n",
       "      <td>0</td>\n",
       "      <td>1152480</td>\n",
       "      <td>Professional</td>\n",
       "      <td>2</td>\n",
       "    </tr>\n",
       "    <tr>\n",
       "      <th>11</th>\n",
       "      <td>22000</td>\n",
       "      <td>25000</td>\n",
       "      <td>6</td>\n",
       "      <td>12000</td>\n",
       "      <td>279840</td>\n",
       "      <td>Illiterate</td>\n",
       "      <td>1</td>\n",
       "    </tr>\n",
       "    <tr>\n",
       "      <th>9</th>\n",
       "      <td>20000</td>\n",
       "      <td>9000</td>\n",
       "      <td>4</td>\n",
       "      <td>0</td>\n",
       "      <td>220800</td>\n",
       "      <td>Under-Graduate</td>\n",
       "      <td>2</td>\n",
       "    </tr>\n",
       "    <tr>\n",
       "      <th>12</th>\n",
       "      <td>23400</td>\n",
       "      <td>5000</td>\n",
       "      <td>3</td>\n",
       "      <td>0</td>\n",
       "      <td>292032</td>\n",
       "      <td>Illiterate</td>\n",
       "      <td>1</td>\n",
       "    </tr>\n",
       "    <tr>\n",
       "      <th>34</th>\n",
       "      <td>46000</td>\n",
       "      <td>25000</td>\n",
       "      <td>5</td>\n",
       "      <td>3500</td>\n",
       "      <td>596160</td>\n",
       "      <td>Graduate</td>\n",
       "      <td>1</td>\n",
       "    </tr>\n",
       "  </tbody>\n",
       "</table>\n",
       "</div>"
      ],
      "text/plain": [
       "    Mthly_HH_Income  Mthly_HH_Expense  No_of_Fly_Members  Emi_or_Rent_Amt  \\\n",
       "2             10000              4500                  2                0   \n",
       "15            25000             12300                  3                0   \n",
       "28            42000             15000                  4                0   \n",
       "13            24000             10500                  6                0   \n",
       "33            45000             22000                  4             2500   \n",
       "5             14000              8000                  2                0   \n",
       "25            35000             25000                  4                0   \n",
       "29            43000             12000                  4                0   \n",
       "24            35000             12000                  3                0   \n",
       "35            47000             15000                  7                0   \n",
       "46            98000             25000                  5                0   \n",
       "11            22000             25000                  6            12000   \n",
       "9             20000              9000                  4                0   \n",
       "12            23400              5000                  3                0   \n",
       "34            46000             25000                  5             3500   \n",
       "\n",
       "    Annual_HH_Income Highest_Qualified_Member  No_of_Earning_Members  \n",
       "2             112800           Under-Graduate                      1  \n",
       "15            246000                 Graduate                      1  \n",
       "28            488880                 Graduate                      1  \n",
       "13            316800                 Graduate                      2  \n",
       "33            610200            Post-Graduate                      1  \n",
       "5             196560                 Graduate                      1  \n",
       "25            449400             Professional                      2  \n",
       "29            619200                 Graduate                      1  \n",
       "24            466200                 Graduate                      1  \n",
       "35            456840             Professional                      4  \n",
       "46           1152480             Professional                      2  \n",
       "11            279840               Illiterate                      1  \n",
       "9             220800           Under-Graduate                      2  \n",
       "12            292032               Illiterate                      1  \n",
       "34            596160                 Graduate                      1  "
      ]
     },
     "execution_count": 4,
     "metadata": {},
     "output_type": "execute_result"
    }
   ],
   "source": [
    "df.sample(15)"
   ]
  },
  {
   "cell_type": "code",
   "execution_count": 5,
   "id": "b07c8cad",
   "metadata": {
    "scrolled": false
   },
   "outputs": [
    {
     "data": {
      "text/plain": [
       "Graduate          19\n",
       "Under-Graduate    10\n",
       "Professional      10\n",
       "Post-Graduate      6\n",
       "Illiterate         5\n",
       "Name: Highest_Qualified_Member, dtype: int64"
      ]
     },
     "execution_count": 5,
     "metadata": {},
     "output_type": "execute_result"
    }
   ],
   "source": [
    "df['Hqm']=pd.factorize(df.Highest_Qualified_Member)[0]\n",
    "df.Highest_Qualified_Member.value_counts()"
   ]
  },
  {
   "cell_type": "code",
   "execution_count": 6,
   "id": "bfb11227",
   "metadata": {
    "scrolled": false
   },
   "outputs": [
    {
     "data": {
      "text/plain": [
       "2    19\n",
       "0    10\n",
       "4    10\n",
       "3     6\n",
       "1     5\n",
       "Name: Hqm, dtype: int64"
      ]
     },
     "execution_count": 6,
     "metadata": {},
     "output_type": "execute_result"
    }
   ],
   "source": [
    "df.Hqm.value_counts()"
   ]
  },
  {
   "cell_type": "code",
   "execution_count": 7,
   "id": "50a50156",
   "metadata": {},
   "outputs": [
    {
     "data": {
      "text/html": [
       "<div>\n",
       "<style scoped>\n",
       "    .dataframe tbody tr th:only-of-type {\n",
       "        vertical-align: middle;\n",
       "    }\n",
       "\n",
       "    .dataframe tbody tr th {\n",
       "        vertical-align: top;\n",
       "    }\n",
       "\n",
       "    .dataframe thead th {\n",
       "        text-align: right;\n",
       "    }\n",
       "</style>\n",
       "<table border=\"1\" class=\"dataframe\">\n",
       "  <thead>\n",
       "    <tr style=\"text-align: right;\">\n",
       "      <th></th>\n",
       "      <th>Mthly_HH_Income</th>\n",
       "      <th>Mthly_HH_Expense</th>\n",
       "      <th>No_of_Fly_Members</th>\n",
       "      <th>Emi_or_Rent_Amt</th>\n",
       "      <th>Annual_HH_Income</th>\n",
       "      <th>Highest_Qualified_Member</th>\n",
       "      <th>No_of_Earning_Members</th>\n",
       "      <th>Hqm</th>\n",
       "    </tr>\n",
       "  </thead>\n",
       "  <tbody>\n",
       "    <tr>\n",
       "      <th>0</th>\n",
       "      <td>5000</td>\n",
       "      <td>8000</td>\n",
       "      <td>3</td>\n",
       "      <td>2000</td>\n",
       "      <td>64200</td>\n",
       "      <td>Under-Graduate</td>\n",
       "      <td>1</td>\n",
       "      <td>0</td>\n",
       "    </tr>\n",
       "    <tr>\n",
       "      <th>1</th>\n",
       "      <td>6000</td>\n",
       "      <td>7000</td>\n",
       "      <td>2</td>\n",
       "      <td>3000</td>\n",
       "      <td>79920</td>\n",
       "      <td>Illiterate</td>\n",
       "      <td>1</td>\n",
       "      <td>1</td>\n",
       "    </tr>\n",
       "    <tr>\n",
       "      <th>2</th>\n",
       "      <td>10000</td>\n",
       "      <td>4500</td>\n",
       "      <td>2</td>\n",
       "      <td>0</td>\n",
       "      <td>112800</td>\n",
       "      <td>Under-Graduate</td>\n",
       "      <td>1</td>\n",
       "      <td>0</td>\n",
       "    </tr>\n",
       "    <tr>\n",
       "      <th>3</th>\n",
       "      <td>10000</td>\n",
       "      <td>2000</td>\n",
       "      <td>1</td>\n",
       "      <td>0</td>\n",
       "      <td>97200</td>\n",
       "      <td>Illiterate</td>\n",
       "      <td>1</td>\n",
       "      <td>1</td>\n",
       "    </tr>\n",
       "    <tr>\n",
       "      <th>4</th>\n",
       "      <td>12500</td>\n",
       "      <td>12000</td>\n",
       "      <td>2</td>\n",
       "      <td>3000</td>\n",
       "      <td>147000</td>\n",
       "      <td>Graduate</td>\n",
       "      <td>1</td>\n",
       "      <td>2</td>\n",
       "    </tr>\n",
       "  </tbody>\n",
       "</table>\n",
       "</div>"
      ],
      "text/plain": [
       "   Mthly_HH_Income  Mthly_HH_Expense  No_of_Fly_Members  Emi_or_Rent_Amt  \\\n",
       "0             5000              8000                  3             2000   \n",
       "1             6000              7000                  2             3000   \n",
       "2            10000              4500                  2                0   \n",
       "3            10000              2000                  1                0   \n",
       "4            12500             12000                  2             3000   \n",
       "\n",
       "   Annual_HH_Income Highest_Qualified_Member  No_of_Earning_Members  Hqm  \n",
       "0             64200           Under-Graduate                      1    0  \n",
       "1             79920               Illiterate                      1    1  \n",
       "2            112800           Under-Graduate                      1    0  \n",
       "3             97200               Illiterate                      1    1  \n",
       "4            147000                 Graduate                      1    2  "
      ]
     },
     "execution_count": 7,
     "metadata": {},
     "output_type": "execute_result"
    }
   ],
   "source": [
    "df.head()"
   ]
  },
  {
   "cell_type": "code",
   "execution_count": 8,
   "id": "98e78568",
   "metadata": {},
   "outputs": [
    {
     "name": "stdout",
     "output_type": "stream",
     "text": [
      "<class 'pandas.core.frame.DataFrame'>\n",
      "RangeIndex: 50 entries, 0 to 49\n",
      "Data columns (total 8 columns):\n",
      " #   Column                    Non-Null Count  Dtype \n",
      "---  ------                    --------------  ----- \n",
      " 0   Mthly_HH_Income           50 non-null     int64 \n",
      " 1   Mthly_HH_Expense          50 non-null     int64 \n",
      " 2   No_of_Fly_Members         50 non-null     int64 \n",
      " 3   Emi_or_Rent_Amt           50 non-null     int64 \n",
      " 4   Annual_HH_Income          50 non-null     int64 \n",
      " 5   Highest_Qualified_Member  50 non-null     object\n",
      " 6   No_of_Earning_Members     50 non-null     int64 \n",
      " 7   Hqm                       50 non-null     int64 \n",
      "dtypes: int64(7), object(1)\n",
      "memory usage: 3.2+ KB\n"
     ]
    }
   ],
   "source": [
    "df.info()"
   ]
  },
  {
   "cell_type": "code",
   "execution_count": 9,
   "id": "d7e17387",
   "metadata": {},
   "outputs": [
    {
     "data": {
      "text/html": [
       "<div>\n",
       "<style scoped>\n",
       "    .dataframe tbody tr th:only-of-type {\n",
       "        vertical-align: middle;\n",
       "    }\n",
       "\n",
       "    .dataframe tbody tr th {\n",
       "        vertical-align: top;\n",
       "    }\n",
       "\n",
       "    .dataframe thead th {\n",
       "        text-align: right;\n",
       "    }\n",
       "</style>\n",
       "<table border=\"1\" class=\"dataframe\">\n",
       "  <thead>\n",
       "    <tr style=\"text-align: right;\">\n",
       "      <th></th>\n",
       "      <th>Mthly_HH_Income</th>\n",
       "      <th>Mthly_HH_Expense</th>\n",
       "      <th>No_of_Fly_Members</th>\n",
       "      <th>Emi_or_Rent_Amt</th>\n",
       "      <th>Annual_HH_Income</th>\n",
       "      <th>No_of_Earning_Members</th>\n",
       "      <th>Hqm</th>\n",
       "    </tr>\n",
       "  </thead>\n",
       "  <tbody>\n",
       "    <tr>\n",
       "      <th>count</th>\n",
       "      <td>50.000000</td>\n",
       "      <td>50.000000</td>\n",
       "      <td>50.000000</td>\n",
       "      <td>50.000000</td>\n",
       "      <td>5.000000e+01</td>\n",
       "      <td>50.000000</td>\n",
       "      <td>50.000000</td>\n",
       "    </tr>\n",
       "    <tr>\n",
       "      <th>mean</th>\n",
       "      <td>41558.000000</td>\n",
       "      <td>18818.000000</td>\n",
       "      <td>4.060000</td>\n",
       "      <td>3060.000000</td>\n",
       "      <td>4.900190e+05</td>\n",
       "      <td>1.460000</td>\n",
       "      <td>2.020000</td>\n",
       "    </tr>\n",
       "    <tr>\n",
       "      <th>std</th>\n",
       "      <td>26097.908979</td>\n",
       "      <td>12090.216824</td>\n",
       "      <td>1.517382</td>\n",
       "      <td>6241.434948</td>\n",
       "      <td>3.201358e+05</td>\n",
       "      <td>0.734291</td>\n",
       "      <td>1.362621</td>\n",
       "    </tr>\n",
       "    <tr>\n",
       "      <th>min</th>\n",
       "      <td>5000.000000</td>\n",
       "      <td>2000.000000</td>\n",
       "      <td>1.000000</td>\n",
       "      <td>0.000000</td>\n",
       "      <td>6.420000e+04</td>\n",
       "      <td>1.000000</td>\n",
       "      <td>0.000000</td>\n",
       "    </tr>\n",
       "    <tr>\n",
       "      <th>25%</th>\n",
       "      <td>23550.000000</td>\n",
       "      <td>10000.000000</td>\n",
       "      <td>3.000000</td>\n",
       "      <td>0.000000</td>\n",
       "      <td>2.587500e+05</td>\n",
       "      <td>1.000000</td>\n",
       "      <td>1.000000</td>\n",
       "    </tr>\n",
       "    <tr>\n",
       "      <th>50%</th>\n",
       "      <td>35000.000000</td>\n",
       "      <td>15500.000000</td>\n",
       "      <td>4.000000</td>\n",
       "      <td>0.000000</td>\n",
       "      <td>4.474200e+05</td>\n",
       "      <td>1.000000</td>\n",
       "      <td>2.000000</td>\n",
       "    </tr>\n",
       "    <tr>\n",
       "      <th>75%</th>\n",
       "      <td>50375.000000</td>\n",
       "      <td>25000.000000</td>\n",
       "      <td>5.000000</td>\n",
       "      <td>3500.000000</td>\n",
       "      <td>5.947200e+05</td>\n",
       "      <td>2.000000</td>\n",
       "      <td>3.000000</td>\n",
       "    </tr>\n",
       "    <tr>\n",
       "      <th>max</th>\n",
       "      <td>100000.000000</td>\n",
       "      <td>50000.000000</td>\n",
       "      <td>7.000000</td>\n",
       "      <td>35000.000000</td>\n",
       "      <td>1.404000e+06</td>\n",
       "      <td>4.000000</td>\n",
       "      <td>4.000000</td>\n",
       "    </tr>\n",
       "  </tbody>\n",
       "</table>\n",
       "</div>"
      ],
      "text/plain": [
       "       Mthly_HH_Income  Mthly_HH_Expense  No_of_Fly_Members  Emi_or_Rent_Amt  \\\n",
       "count        50.000000         50.000000          50.000000        50.000000   \n",
       "mean      41558.000000      18818.000000           4.060000      3060.000000   \n",
       "std       26097.908979      12090.216824           1.517382      6241.434948   \n",
       "min        5000.000000       2000.000000           1.000000         0.000000   \n",
       "25%       23550.000000      10000.000000           3.000000         0.000000   \n",
       "50%       35000.000000      15500.000000           4.000000         0.000000   \n",
       "75%       50375.000000      25000.000000           5.000000      3500.000000   \n",
       "max      100000.000000      50000.000000           7.000000     35000.000000   \n",
       "\n",
       "       Annual_HH_Income  No_of_Earning_Members        Hqm  \n",
       "count      5.000000e+01              50.000000  50.000000  \n",
       "mean       4.900190e+05               1.460000   2.020000  \n",
       "std        3.201358e+05               0.734291   1.362621  \n",
       "min        6.420000e+04               1.000000   0.000000  \n",
       "25%        2.587500e+05               1.000000   1.000000  \n",
       "50%        4.474200e+05               1.000000   2.000000  \n",
       "75%        5.947200e+05               2.000000   3.000000  \n",
       "max        1.404000e+06               4.000000   4.000000  "
      ]
     },
     "execution_count": 9,
     "metadata": {},
     "output_type": "execute_result"
    }
   ],
   "source": [
    "df.describe()"
   ]
  },
  {
   "cell_type": "markdown",
   "id": "285f2677",
   "metadata": {},
   "source": [
    "# MEAN"
   ]
  },
  {
   "cell_type": "markdown",
   "id": "789ada09",
   "metadata": {},
   "source": [
    "- For a data set, the _Arithmetic Mean_ also known as _average_, is the sum of observations divided by the number of observations.  \n",
    "  \n",
    "- Mean is a measure of Central Tendency.\n",
    "  \n",
    "- The Mean of the set of numbers   $x_1, x_2, x_3$,......$ x_n $ is typically denoted by $\\bar{x}$,  mathematically it can be shown as :\n",
    "\n",
    "  \n",
    "  $$ \\bar{x} = \\frac{x_1 + x_2 + x_3.....+ x_n}{n} $$  \n",
    "  $$ \\mu \\, or \\, \\bar x  = \\frac{1}{n} \\sum_{i=1}^n x_i $$\n",
    "    \n",
    "- If the data set were based on series of observations obtained by sampling from a statistical population, the mean is the __Sample Mean__ (denoted $ \\bar{x} $) to distinguish it from the mean, or expected valueof the underlying distribution, the __Population Mean__ (denoted $ \\mu $ or $ \\mu_x $).  \n",
    "  \n",
    "__Example:__\n",
    "Let X be the set of observations X:{50,34,65,78,91,65} and it's Mean can be calculated as:  \n",
    "  \n",
    "  $$ Number \\, of \\, observations = 6 $$\n",
    "  \n",
    "$$ \\bar x = \\frac{50+34+65+78+91+65}{6} = 383 $$ \n",
    "\n",
    "\n",
    "  "
   ]
  },
  {
   "cell_type": "code",
   "execution_count": 10,
   "id": "a4883cb2",
   "metadata": {
    "scrolled": false
   },
   "outputs": [
    {
     "name": "stdout",
     "output_type": "stream",
     "text": [
      "The Average Monthly House Hold Income of Family: 41558.0\n",
      "The Average Monthly House Hold Expense of Family: 18818.0\n",
      "The Average Annual House Hold Income of Family: 490019.04\n"
     ]
    }
   ],
   "source": [
    "# Calculating Mean from the data (data.csv) taken above\n",
    "print(\"The Average Monthly House Hold Income of Family:\",df.iloc[:,0].mean())\n",
    "print(\"The Average Monthly House Hold Expense of Family:\",df.iloc[:,1].mean())\n",
    "print(\"The Average Annual House Hold Income of Family:\",df.iloc[:,4].mean())"
   ]
  },
  {
   "cell_type": "markdown",
   "id": "e0eb2b2e",
   "metadata": {},
   "source": [
    "# MEDIAN"
   ]
  },
  {
   "cell_type": "markdown",
   "id": "0de76c86",
   "metadata": {},
   "source": [
    "The __Median__ is the middle number in a sorted, ascending or descending, list of numbers and can be more descriptive of that data set than the average.  \n",
    "- The Median is sometimes used as opposed to the mean when there are outliers in the sequence that might skew the average of the values  \n",
    "- If there is __Odd__ amount of numbers the Median value is the number that is in the middle, with the same amount of numbers below and above\n",
    "- If there is __Even__ amount of numbers in the list, the middle pair must be determined, added together and divided by two to find the Median value   \n",
    "\n",
    "  \n",
    "- When number of observations(n) is odd:  \n",
    "$$ Median=X\\big(\\frac{n}{2}\\big) $$  \n",
    "- When number of observations(n) is even:  \n",
    "$$ Median=X\\bigg(\\frac{X(\\frac{n-1}{2})+X(\\frac{n+1}{2})}{2}\\bigg) $$\n",
    "  \n",
    "The Median can be used to determine the approximate Mean, but is not to be confused with the actual Mean.  \n",
    "  \n",
    "__Example:__X={1,6,7,4,2}  \n",
    "  \n",
    "  X={1,2,4,6,7}  \n",
    "  Number of observations = 5 (odd)  \n",
    "  Median=5//2=3 (3rd observation) = 4"
   ]
  },
  {
   "cell_type": "code",
   "execution_count": 11,
   "id": "31b59e71",
   "metadata": {},
   "outputs": [
    {
     "name": "stdout",
     "output_type": "stream",
     "text": [
      "The Median of the Annual Income is :  447420.0\n"
     ]
    }
   ],
   "source": [
    "print(\"The Median of the Annual Income is : \",df.iloc[:,4].median())"
   ]
  },
  {
   "cell_type": "markdown",
   "id": "c0a4dc64",
   "metadata": {},
   "source": [
    "# MODE"
   ]
  },
  {
   "cell_type": "markdown",
   "id": "f3f804ed",
   "metadata": {},
   "source": [
    "- The Mode is the value that appears most frequently in a data set.\n",
    "- It is also a measure of central tendency.\n",
    "- A set of data may have one mode, more than one mode, or no mode at all  \n",
    "\n",
    "__Examples of the Mode__  \n",
    "  \n",
    "  \n",
    "For example, in the following list of numbers, 16 is the mode since it appears more times in the set than any other number:\n",
    "\n",
    "3, 3, 6, 9, __16, 16, 16,__ 27, 27, 37, 48  \n",
    "\n",
    "A set of numbers can have more than one mode (this is known as bimodal if there are two modes) if there are multiple numbers that occur with equal frequency, and more times than the others in the set.  \n",
    "\n",
    "\n",
    "__3, 3, 3,__ 9, __16, 16, 16,__ 27, 37, 48  \n",
    "\n",
    "In the above example, both the number 3 and the number 16 are modes as they each occur three times and no other number occurs more often.  \n",
    "\n",
    "\n",
    "If no number in a set of numbers occurs more than once, that set has no mode:  \n",
    "\n",
    "\n",
    "3, 6, 9, 16, 27, 37, 48  \n",
    "\n",
    "A set of numbers with two modes is bimodal, a set of numbers with three modes is trimodal, and any set of numbers with more than one mode is multimodal.  \n"
   ]
  },
  {
   "cell_type": "code",
   "execution_count": 19,
   "id": "cbc23a77",
   "metadata": {},
   "outputs": [
    {
     "name": "stdout",
     "output_type": "stream",
     "text": [
      "The Most number of people are belongs to category: 0    2\n",
      "dtype: int64\n",
      "_________________________\n",
      "Graduate          19\n",
      "Under-Graduate    10\n",
      "Professional      10\n",
      "Post-Graduate      6\n",
      "Illiterate         5\n",
      "Name: Highest_Qualified_Member, dtype: int64\n",
      "_________________________\n",
      "2    19\n",
      "0    10\n",
      "4    10\n",
      "3     6\n",
      "1     5\n",
      "Name: Hqm, dtype: int64\n",
      "_________________________\n",
      "Hence the most of the people are graduates,with the help of mode we can describe categorical data like this\n"
     ]
    }
   ],
   "source": [
    "print(\"The Most number of people are belongs to category:\",df.iloc[:,-1].mode())\n",
    "print(\"_\"*25)\n",
    "print(df.Highest_Qualified_Member.value_counts())\n",
    "print(\"_\"*25)\n",
    "print(df.Hqm.value_counts())\n",
    "print(\"_\"*25)\n",
    "print(\"Hence the most of the people are graduates,with the help of mode we can describe categorical data like this\")"
   ]
  },
  {
   "cell_type": "markdown",
   "id": "eb04feb8",
   "metadata": {},
   "source": [
    "# Variance"
   ]
  },
  {
   "cell_type": "markdown",
   "id": "716cc738",
   "metadata": {},
   "source": [
    "- Variance is a measurement of the spread between numbers in a data set.  \n",
    "- variance is the measure of spread and it measures how far each number in the set is from the mean and thus from every other number in the set.\n",
    "-  Variance is often depicted by this symbol: $ \\sigma^2 $  \n",
    "- Variance is calculated by using the formula:  \n",
    " - For Population:  \n",
    " \n",
    "$$ Variance (\\sigma^2) = \\frac{\\sum_{i=1}^{n}(x_i - \\mu)^2}{n} $$  \n",
    "$$ where:x_i\t =i^{th} data point  $$\n",
    " $$ \\mu=Population Mean \\,of\\, all\\, data\\,points $$\n",
    "$$ n=Number \\,of\\, data \\,points$$    \n",
    "-     \n",
    " - For Sample:  \n",
    "\n",
    "$$ Variance (S^2) = \\frac{\\sum_{i=1}^{n}(x_i - \\bar {x})^2}{n-1} $$  \n",
    "$$ where: S^2=Sample \\, Variance $$\n",
    "$$ \\bar{x}=Sample \\, mean $$ "
   ]
  },
  {
   "cell_type": "code",
   "execution_count": 28,
   "id": "c22c51bb",
   "metadata": {
    "scrolled": true
   },
   "outputs": [
    {
     "name": "stdout",
     "output_type": "stream",
     "text": [
      "The Variance of the Monthly House hold income of the families is : 681100853.0612245\n"
     ]
    }
   ],
   "source": [
    "import statistics\n",
    "print(\"The Variance of the Monthly House hold income of the families is :\",statistics.variance(df[\"Mthly_HH_Income\"]))"
   ]
  },
  {
   "cell_type": "markdown",
   "id": "9fb8ec62",
   "metadata": {},
   "source": [
    "## Code for Sample Variance"
   ]
  },
  {
   "cell_type": "code",
   "execution_count": 30,
   "id": "afffd701",
   "metadata": {
    "scrolled": true
   },
   "outputs": [
    {
     "name": "stdout",
     "output_type": "stream",
     "text": [
      "30.684000000000005\n"
     ]
    }
   ],
   "source": [
    "def variance(lst):\n",
    "    sum=0\n",
    "    for i in range(len(lst)):\n",
    "        sum=sum+lst[i]\n",
    "    mean=sum/len(lst)\n",
    "    for i in range(len(lst)):\n",
    "        var=((lst[i]-mean)**2)/len(lst)-1\n",
    "    return var\n",
    "lst=[2,4,20,30,41,34,55,43,21,8]\n",
    "print(variance(lst))"
   ]
  },
  {
   "cell_type": "markdown",
   "id": "2d9492c2",
   "metadata": {},
   "source": [
    "# Standard Deviation"
   ]
  },
  {
   "cell_type": "markdown",
   "id": "9ac18e1e",
   "metadata": {},
   "source": [
    "- A standard deviation is a statistic that measures the dispersion of a dataset relative to its mean.  \n",
    "- The standard deviation is calculated as the square root of variance by determining each data point's deviation relative to the mean.  \n",
    "- Standard Deviation is calculated by using the formula:  \n",
    " - For Population:  \n",
    " \n",
    "$$ Standard Deviation (\\sigma) = \\sqrt{\\frac{\\sum_{i=1}^{n}(x_i - \\mu)^2}{n}} $$ \n",
    "$$ \\sigma = Standard Deviation\\,(population)$$\n",
    "$$ where:x_i\t =i^{th} data point  $$\n",
    " $$ \\mu=Population Mean \\,of\\, all\\, data\\,points $$\n",
    "$$ n=Number \\,of\\, data \\,points$$    \n",
    "-     \n",
    " - For Sample:  \n",
    "\n",
    "$$ Standard\\,Deviation(S) =\\sqrt{ \\frac{\\sum_{i=1}^{n}(x_i - \\bar {x})^2}{n-1}} $$  \n",
    "$$ where: S=Sample \\, Standard\\,Deviation $$\n",
    "$$ \\bar{x}=Sample \\, mean $$ "
   ]
  },
  {
   "cell_type": "code",
   "execution_count": 32,
   "id": "592e666f",
   "metadata": {},
   "outputs": [
    {
     "name": "stdout",
     "output_type": "stream",
     "text": [
      "The standard deviation of the monthly house hold income is : 26097.908978713687\n"
     ]
    }
   ],
   "source": [
    "print(\"The standard deviation of the monthly house hold income is :\",statistics.stdev(df['Mthly_HH_Income']))"
   ]
  },
  {
   "cell_type": "markdown",
   "id": "d0014710",
   "metadata": {},
   "source": [
    "## Code for Sample Standard Deviation"
   ]
  },
  {
   "cell_type": "code",
   "execution_count": 31,
   "id": "00c53eaf",
   "metadata": {},
   "outputs": [
    {
     "name": "stdout",
     "output_type": "stream",
     "text": [
      "5.539314036954396\n"
     ]
    }
   ],
   "source": [
    "def standard_deviation(lst):\n",
    "    sum=0\n",
    "    for i in range(len(lst)):\n",
    "        sum=sum+lst[i]\n",
    "    mean=sum/len(lst)\n",
    "    for i in range(len(lst)):\n",
    "        std=(((lst[i]-mean)**2)/len(lst)-1)**0.5\n",
    "    return std\n",
    "lst=[2,4,20,30,41,34,55,43,21,8]\n",
    "print(standard_deviation(lst))"
   ]
  },
  {
   "cell_type": "markdown",
   "id": "668cc63c",
   "metadata": {},
   "source": [
    "# Correlation Coefficient"
   ]
  },
  {
   "cell_type": "markdown",
   "id": "913c18f4",
   "metadata": {},
   "source": [
    "- Correlation coefficients are used to measure the strength of the relationship between two variables.\n",
    "- Pearson correlation is the one most commonly used in statistics. This measures the strength and direction of a linear relationship between two variables.\n",
    "- Values always range between -1 (strong negative relationship) and +1 (strong positive relationship). Values at or close to zero imply a weak or no linear relationship.\n",
    "- Correlation coefficient values less than +0.8 or greater than -0.8 are not considered significant.  \n",
    "- The correlation coefficient is determined by dividing the covariance by the product of the two variables' standard deviations.  \n",
    "\n",
    "$$ \\rho_{x,y}=\\frac{Cov(x,y)}{\\sigma_x\\sigma_y} $$ \n",
    "$$ \\rho_{x,y}=Pearson product-moment\\,correlation\\,coefficient $$\n",
    "$$ Cov(x,y)=covariance\\, of \\,variables \\,x \\,and\\, y$$\n",
    "$$ \\sigma_x =standard\\, deviation\\, of\\, x$$\n",
    "$$ \\sigma_y =\\,standard \\,deviation \\,of\\, y $$\n"
   ]
  },
  {
   "cell_type": "markdown",
   "id": "ff1d9f14",
   "metadata": {},
   "source": [
    "# Normal Distribution"
   ]
  },
  {
   "cell_type": "markdown",
   "id": "f3b05067",
   "metadata": {},
   "source": [
    "- Normal distribution, also known as the Gaussian distribution, is a probability distribution that is symmetric about the mean, showing that data near the mean are more frequent in occurrence than data far from the mean.  \n",
    "- In graph form, normal distribution will appear as a bell curve.  \n",
    "![Normal Distribution](simple_normal_dist.PNG)  \n",
    "- The Probability density function of the Gaussian distribution is given by:  \n",
    "$$ f(x)=\\frac{1}{\\sigma \\sqrt{2\\pi}} \\epsilon^{-\\frac{1}{2}\\big(\\frac{x-\\mu}{\\sigma}\\big)^2}  $$  \n",
    "$$ Where: f(x)=Probability\\,density\\,function $$\n",
    "$$ \\mu=Mean $$\n",
    "$$ \\sigma = Standard\\,Deviation $$"
   ]
  },
  {
   "cell_type": "markdown",
   "id": "996ec204",
   "metadata": {},
   "source": [
    "## Distribution of the monthly house hold income"
   ]
  },
  {
   "cell_type": "code",
   "execution_count": 34,
   "id": "1b8331ba",
   "metadata": {},
   "outputs": [
    {
     "name": "stderr",
     "output_type": "stream",
     "text": [
      "C:\\Users\\Admin\\anaconda3\\lib\\site-packages\\seaborn\\distributions.py:2557: FutureWarning: `distplot` is a deprecated function and will be removed in a future version. Please adapt your code to use either `displot` (a figure-level function with similar flexibility) or `histplot` (an axes-level function for histograms).\n",
      "  warnings.warn(msg, FutureWarning)\n"
     ]
    },
    {
     "data": {
      "text/plain": [
       "<AxesSubplot:xlabel='Mthly_HH_Income', ylabel='Density'>"
      ]
     },
     "execution_count": 34,
     "metadata": {},
     "output_type": "execute_result"
    },
    {
     "data": {
      "image/png": "[encoded data removed]",
      "text/plain": [
       "<Figure size 432x288 with 1 Axes>"
      ]
     },
     "metadata": {
      "needs_background": "light"
     },
     "output_type": "display_data"
    }
   ],
   "source": [
    "import seaborn as sns\n",
    "sns.distplot(df['Mthly_HH_Income'])"
   ]
  },
  {
   "cell_type": "markdown",
   "id": "587ced42",
   "metadata": {},
   "source": [
    "# Features of Normal Distribution"
   ]
  },
  {
   "cell_type": "markdown",
   "id": "3b30f9c8",
   "metadata": {},
   "source": [
    "__1. It is symmetric__\n",
    "\n",
    "A normal distribution comes with a perfectly symmetrical shape. This means that the distribution curve can be divided in the middle to produce two equal halves.  \n",
    "The symmetric shape occurs when one-half of the observations fall on each side of the curve.\n",
    "\n",
    " \n",
    "\n",
    "__2. The mean, median, and mode are equal__\n",
    "\n",
    "The middle point of a normal distribution is the point with the maximum frequency, which means that it possesses the most observations of the variable. The midpoint is also the point where these three measures fall.  \n",
    "The measures are usually equal in a perfectly (normal) distribution.\n",
    "\n",
    " \n",
    "\n",
    "__3. Empirical rule__\n",
    "\n",
    "In normally distributed data, there is a constant proportion of distance lying under the curve between the mean and specific number of standard deviations from the mean.  \n",
    "For example,  \n",
    "- 68.25% of all cases fall within +/- one standard deviation from the mean.  \n",
    "- 95% of all cases fall within +/- two standard deviations from the mean.  \n",
    "- while 99% of all cases fall within +/- three standard deviations from the mean.  \n",
    "![percentile](percentile_normal_dist.PNG)  \n",
    "- The area under the curve is equal to 1.\n",
    "- The probability of an event that does not happen is 0.\n",
    "- The sum of the probabilities of all events is 1.\n",
    "- The standard deviation tells one how the scores are spread out and therefore the fatness or skinniness of the bell\n",
    "\n",
    " \n",
    "\n",
    "__4. Skewness and kurtosis__\n",
    "\n",
    "Skewness and kurtosis are coefficients that measure how different a distribution is from a normal distribution.  \n",
    "Skewness measures the symmetry of a normal distribution while kurtosis measures the thickness of the tail ends relative to the tails of a normal distribution."
   ]
  },
  {
   "cell_type": "markdown",
   "id": "ecd6341a",
   "metadata": {},
   "source": [
    "# Positively Skewed Distribution"
   ]
  },
  {
   "cell_type": "markdown",
   "id": "ab043c7d",
   "metadata": {},
   "source": [
    "- Positively Skewed Distribution is a type of distribution where the mean, median and mode of the distribution are positive rather than negative or zero i.e., data distribution occurs more on the one side of the scale with long tail on the right side.  \n",
    "- It is also known as the right-skewed distribution, where the mean is generally there to the right side of the median of the data.  \n",
    "![positively skewed](positive_skew.PNG)"
   ]
  },
  {
   "cell_type": "markdown",
   "id": "cbf90610",
   "metadata": {},
   "source": [
    "# Negatively Skewed Distribution"
   ]
  },
  {
   "cell_type": "markdown",
   "id": "ecac238a",
   "metadata": {},
   "source": [
    "Negatively skewed distribution refers to the distribution type where the more values are plotted on the right side of the graph, where the tail of the distribution is longer on the left side and the mean is lower than the median and mode which it might be zero or negative due to the nature of the data as negatively distributed  \n",
    "  \n",
    "![Negatively_skewed_distribution](negatively_skewed.PNG)  \n",
    "\n",
    "__Real-Life Examples of Negatively Skewed Distribution__  \n",
    "\n",
    "- In cricket, some players made the score lower than the average, some get out on zero, some players score runs which are very low, and only one or two players makes the highest scores and which might result in the winning of the team, but if we saw the scores player-wise the distribution, it is negatively skewed.  \n",
    "\n",
    "- Another Example is university exams; the exams are the same, but a few scoreless, few score average, and a few scores the high percentage, which shows the data is negatively skewed."
   ]
  },
  {
   "cell_type": "markdown",
   "id": "a09e6771",
   "metadata": {},
   "source": [
    "#  Effect on Central Tendencies due to Skewness"
   ]
  },
  {
   "cell_type": "markdown",
   "id": "b76f51b2",
   "metadata": {},
   "source": [
    "\n",
    "- In a Positively skewed distribution, the mean is greater than the median as the data is more towards the lower side and the mean average of all the values, whereas the median is the middle value of the data.   \n",
    "  \n",
    "- So, if the data is more bent towards the lower side, the average will be more than the middle value. \n",
    "  \n",
    "  \n",
    "- Let’s take the following example for better understanding:\n",
    "\n",
    "     50, 51, 52, 59 shows the distribution is positively skewed as data is normally or positively scattered range.  \n",
    "\n",
    "    The mean of the data provided is 53 (average, i.e., (50+51+52+59)/4).  \n",
    "\n",
    "    Median is (n+1/2) Value, i.e. (4+1/2), i.e., 2.5, i.e., the median is average of 2nd value and 3rd value.  \n",
    "\n",
    "    Median is (51+52)/2 = 51.5  \n",
    "\n",
    "    As the mean is 53 and the median is 51.5, and there is no mode here the data is said to be positively skewed.  \n",
    "    \n",
    "  \n",
    "- The effect of Central Tendencies on Positively skewed distribution is given by:  \n",
    "  \n",
    "  $$ Mean > Median > Mode $$  \n",
    "  \n",
    "\n",
    "- Whereas in negatively skewed distribution, data is shown as unequal distribution, the central tendency is shown as under:\n",
    "\n",
    "$$ Mode > Median > Mean $$\n",
    "\n",
    "- Median is the middle value, and mode is the highest value. But due to unequal distribution median will be higher than the mean.\n",
    "\n"
   ]
  },
  {
   "cell_type": "markdown",
   "id": "1f340bea",
   "metadata": {},
   "source": [
    "# Log-Normal Distribution"
   ]
  },
  {
   "cell_type": "markdown",
   "id": "24158c7b",
   "metadata": {},
   "source": [
    "- A log-normal distribution is a continuous distribution of random variables whose logarithms are distributed normally.  \n",
    "- In other words, the lognormal distribution is generated by the function of $e^x$, where x (random variable) is supposed to be normally distributed.  \n",
    "- In the natural logarithm of ex is the x, the logarithms of lognormally distributed random variables are normally distributed.  \n",
    "\n",
    "- A variable X is normally distributed if Y = ln(X), where ln is the natural logarithm.\n",
    "\n",
    "    Y= $ e^x   $\n",
    "    \n",
    "    Let’s assume a natural logarithm on both sides.  \n",
    "    \n",
    "    lnY = ln $e^x$ which results into lnY = x  \n",
    "    \n",
    "    Therefore, we can say, if X being a random variable has a normal distribution, then Y has a lognormal distribution.  \n",
    "![log_normal](log_normal.PNG)"
   ]
  },
  {
   "cell_type": "markdown",
   "id": "57e31c16",
   "metadata": {},
   "source": [
    "# QQ Plot"
   ]
  },
  {
   "cell_type": "markdown",
   "id": "064f0228",
   "metadata": {},
   "source": [
    "- The Q-Q plot, or quantile-quantile plot, is a graphical tool to help us assess if a set of data plausibly came from some theoretical distribution such as a Normal or exponential.  \n",
    "- A Q-Q plot is a scatterplot created by plotting two sets of quantiles against one another.  \n",
    "- If both sets of quantiles came from the same distribution, we should see the points forming a line that’s roughly straight.  \n",
    "![QQ plot](qq_plot.PNG)"
   ]
  },
  {
   "cell_type": "code",
   "execution_count": 47,
   "id": "3c0c7bde",
   "metadata": {
    "scrolled": false
   },
   "outputs": [
    {
     "data": {
      "image/png": "[encoded data removed]",
      "text/plain": [
       "<Figure size 432x288 with 1 Axes>"
      ]
     },
     "metadata": {
      "needs_background": "light"
     },
     "output_type": "display_data"
    }
   ],
   "source": [
    "from scipy import stats\n",
    "import matplotlib.pyplot as plt\n",
    "stats.probplot(df['Mthly_HH_Income'], dist=\"norm\", plot=plt)\n",
    "\n",
    "plt.grid()\n",
    "\n"
   ]
  },
  {
   "cell_type": "markdown",
   "id": "264c286f",
   "metadata": {},
   "source": [
    "# BoxCox Transformation"
   ]
  },
  {
   "cell_type": "markdown",
   "id": "92ebfb09",
   "metadata": {},
   "source": [
    "- The Box-Cox transformation transforms our data so that it closely resembles a normal distribution.  \n",
    "\n",
    "- In many statistical techniques, we assume that the errors are normally distributed. This assumption allows us to construct confidence intervals and conduct hypothesis tests.  \n",
    "- By transforming your target variable, we can (hopefully) normalize our errors (if they are not already normal).  \n",
    "\n",
    "- Additionally, transforming our variables can improve the predictive power of our models because transformations can cut away white noise.  \n",
    "- If w is our transformed variable and y is our target variable, then  \n",
    "\n",
    "![box_cox_formula](boxcox_formula.PNG)  \n",
    "where t is the time period and lambda is the parameter that we choose\n"
   ]
  },
  {
   "cell_type": "code",
   "execution_count": 48,
   "id": "a0cbebeb",
   "metadata": {},
   "outputs": [
    {
     "name": "stdout",
     "output_type": "stream",
     "text": [
      "0.3031376789702236\n"
     ]
    },
    {
     "data": {
      "image/png": "[encoded data removed]",
      "text/plain": [
       "<Figure size 432x288 with 1 Axes>"
      ]
     },
     "metadata": {
      "needs_background": "light"
     },
     "output_type": "display_data"
    }
   ],
   "source": [
    "x_t,l=stats.boxcox(df[\"Mthly_HH_Income\"])\n",
    "print(l)\n",
    "stats.probplot(x_t, dist=\"norm\", plot=plt)\n",
    "\n",
    "plt.grid()"
   ]
  },
  {
   "cell_type": "markdown",
   "id": "8c626d87",
   "metadata": {},
   "source": []
  },
  {
   "cell_type": "markdown",
   "id": "86689e4a",
   "metadata": {},
   "source": []
  },
  {
   "cell_type": "markdown",
   "id": "f297f380",
   "metadata": {},
   "source": []
  }
 ],
 "metadata": {
  "kernelspec": {
   "display_name": "Python 3",
   "language": "python",
   "name": "python3"
  },
  "language_info": {
   "codemirror_mode": {
    "name": "ipython",
    "version": 3
   },
   "file_extension": ".py",
   "mimetype": "text/x-python",
   "name": "python",
   "nbconvert_exporter": "python",
   "pygments_lexer": "ipython3",
   "version": "3.8.5"
  }
 },
 "nbformat": 4,
 "nbformat_minor": 5
}
