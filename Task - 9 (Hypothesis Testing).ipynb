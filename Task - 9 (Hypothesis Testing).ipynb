{
 "cells": [
  {
   "cell_type": "markdown",
   "id": "f33ae570",
   "metadata": {},
   "source": [
    "# Hypothesis Testing"
   ]
  },
  {
   "cell_type": "markdown",
   "id": "7f0b4ab6",
   "metadata": {},
   "source": [
    " By G M Nithin Sai | Guidance From Kanav Bansal | Updated on $22^{nd}$ May, 2021.  \n",
    "- - -\n",
    "  \n",
    "- Hypothesis testing is an act in statistics whereby an analyst tests an assumption regarding a population parameter. The methodology employed by the analyst depends on the nature of the data used and the reason for the analysis.  \n",
    "  \n",
    "> __KEY TAKEAWAYS__\n",
    "> - Hypothesis testing is used to assess the plausibility of a hypothesis by using sample data.\n",
    "> - The test provides evidence concerning the plausibility of the hypothesis, given the data.\n",
    "> - Statistical analysts test a hypothesis by measuring and examining a random sample of the population being analyzed.  \n",
    "--- \n",
    "How Hypothesis Testing Works \n",
    "---\n",
    "- In hypothesis testing, an analyst tests a statistical sample, with the goal of providing evidence on the plausibility of the null hypothesis.\n",
    "\n",
    "- Statistical analysts test a hypothesis by measuring and examining a random sample of the population being analyzed. All analysts use a random population sample to test two different hypotheses: the null hypothesis and the alternative hypothesis.\n",
    "\n",
    "- The null hypothesis is usually a hypothesis of equality between population parameters; e.g., a null hypothesis may state that the population mean return is equal to zero.\n",
    "- The alternative hypothesis is effectively the opposite of a null hypothesis (e.g., the population mean return is not equal to zero). Thus, they are mutually exclusive, and only one can be true. However, one of the two hypotheses will always be true.\n",
    "\n",
    "\n"
   ]
  },
  {
   "cell_type": "code",
   "execution_count": 2,
   "id": "53dcf2ae",
   "metadata": {},
   "outputs": [],
   "source": [
    "import matplotlib.pyplot as plt\n",
    "import numpy as np\n",
    "\n",
    "from scipy.stats import norm\n",
    "from scipy.stats import t"
   ]
  },
  {
   "cell_type": "code",
   "execution_count": 9,
   "id": "a5822c03",
   "metadata": {},
   "outputs": [],
   "source": [
    "def tscore(sample_size,sample_mean,pop_mean,sample_std):\n",
    "    nume=sample_mean-pop_mean\n",
    "    denom=sample_std/(sample_size)**0.5\n",
    "    return nume/denom"
   ]
  },
  {
   "cell_type": "markdown",
   "id": "b47963c0",
   "metadata": {},
   "source": [
    "# Understanding the Hypothesis Testing"
   ]
  },
  {
   "cell_type": "markdown",
   "id": "c83436e7",
   "metadata": {},
   "source": [
    "Step - 1:   \n",
    "\n",
    "Alternate Hypothesis(Bold Claim): $ H_1 $ $\\implies $ $\\lt$, $\\gt$, $\\neq$  \n",
    "Null Hypothesis (status Quo): $H_0$ $\\implies$ $\\leq$, $\\geq$, $=$  \n",
    "  \n",
    "Step - 2:  \n",
    "  \n",
    "- Collect a sample of size n  \n",
    "- Calculate the Mean of the sample ($\\bar{x}$)  \n",
    "  \n",
    "Step - 3: Compute test statistic:  \n",
    "  \n",
    "- If standard deviation is known  :\n",
    "   $$ z=\\frac{\\bar{x}-\\mu}{\\frac{\\sigma}{\\sqrt[2]{n}}} $$  \n",
    "- If standard deviation is not known:  \n",
    "$$ t=\\frac{\\bar{x}-\\mu}{\\frac{s}{\\sqrt[2]{n}}}$$  \n",
    "  \n",
    "step -  4: Decide Significance level $\\alpha$. If the alpha is lower remember we need stronger evidence to reject Null hypothesis.  \n",
    "  \n",
    "step - 5.1: Apply Decision Rule:  \n",
    "  \n",
    "- If test statistic is Z - score:  \n",
    " - Two Tailed Z-test:  \n",
    "$$ |z| > z_\\frac{\\alpha}{2}\\, \\implies \\, Accept H_1 or Reject H_0 $$\n",
    " -Right Tailed Z-Test:  \n",
    " $$ z > z_\\alpha\\, \\implies \\, Accept H_1 or Reject H_0 $$\n",
    " - Left Tailed Z-Test:  \n",
    " $$ z < -z_\\frac{\\alpha}{2}\\, \\implies \\, Accept H_1 or Reject H_0 $$\n",
    "- If test statistic is t-score:  \n",
    " - Two tailed test:  \n",
    " $$  |t| > t_{n-1,\\alpha/2} \\implies Accept H_1 or Reject H_0 $$\n",
    " - Right Tailed t-test:  \n",
    " $$  t > t_{n-1,\\alpha} \\implies Accept H_1 or Reject H_0 $$\n",
    " - Left tailed t-test:  \n",
    " $$  t < t_{n-1,\\alpha} \\implies Accept H_1 or Reject H_0 $$\n",
    "  \n",
    "Step - 5.2 Compute P-Value $$ P(test statistics|H_0) $$  \n",
    "  \n",
    "- For Two tailed test:  \n",
    "$$ pvalue=2*(1.0-cdf(test statistic)) $$  \n",
    "- For one tailed test:  \n",
    "$$  pvalue=(1.0-cdf(test statistic))$$\n",
    "   Now,  \n",
    "   $$ if(pvalue<\\alpha)\\implies Accept H_1 or Reject H_0 $$\n",
    "\n",
    "\n",
    " "
   ]
  },
  {
   "cell_type": "markdown",
   "id": "a441bbd3",
   "metadata": {},
   "source": [
    "## Practical Example-1"
   ]
  },
  {
   "cell_type": "markdown",
   "id": "6c295057",
   "metadata": {},
   "source": [
    "__Q-1: Pista House selling Hyderabadi Chicken Dum biryani claims that each parcel packet has 500 grams of biryani (also mentioned on the label of packet). You are sceptic of their claims and believe that on average each packet does not contain 500 grams of biryani. How do you prove your claim?__  \n",
    "- - -\n",
    "Step 1:  \n",
    "  \n",
    "Alternate Hypothesis (Bold Claim) :  \n",
    "$$ H_1: On \\,an\\, Average\\, each\\, Chicken\\, dum\\, biryani\\, packet \\,does\\, not\\, weigh\\, 500 \\,grams$$ \n",
    "$$\\mu \\neq 500$$\n",
    "Null Hypothesis (status quo):  \n",
    "$$ H_0: Pista\\, House\\, claims\\, that\\, each\\, chickendum\\, biryani \\,packet \\,weighs\\, 500 grams $$\n",
    "$$\\mu = 500$$\n",
    "step - 2:  \n",
    "  \n",
    "- Collect a sample of size n=12  \n",
    "  \n",
    "$$ [500,510,505,498,476,520,521,480,510,504,550,469]$$\n",
    "  \n",
    "- Compute sample mean  \n",
    "$$\\bar{x}=497.0 $$\n",
    "  \n",
    "Step - 3: compute Test Statistic:  \n",
    "  \n",
    "since standard deviation is not provide we compute t score where,  \n",
    "$$ t=\\frac{\\bar{x}-\\mu}{\\frac{s}{\\sqrt[2]{n}}}=-0.5725114387470406$$  \n",
    "Step - 4: Decide $\\alpha$ or significance level  \n",
    "$$\\alpha=0.95$$\n",
    "step - 5.1: Two Tailed t-test:  \n",
    "$$ Reject\\, H_0\\, if \\, tscore\\,  >\\, t\\, critical $$\n",
    "$$From\\, the \\,above\\,condition \\,we \\,failed\\,to\\,reject\\,Null\\,Hypothesis$$  \n",
    "step - 5.2:Calculate P-value  \n",
    "$$Calculated \\,P- value \\,is\\, :\\, 0.20641847943818092 $$\n",
    "$$if \\,P -value > alpha\\,: \\,reject \\,null\\, hypothesis$$\n",
    "$$ Hence,\\,we\\, failed\\, to\\, reject\\, null\\, hypohthesis$$\n"
   ]
  },
  {
   "cell_type": "code",
   "execution_count": 3,
   "id": "03ffb290",
   "metadata": {
    "scrolled": false
   },
   "outputs": [
    {
     "name": "stdout",
     "output_type": "stream",
     "text": [
      "sample mean: 465.3\n",
      "sample standard deviation: 86.84859110991827\n"
     ]
    }
   ],
   "source": [
    "samples=[490,220,470,500,495,496,496,498,508,480]\n",
    "sample_mean=np.array(samples).mean()\n",
    "print(\"sample mean:\",sample_mean)\n",
    "def sample_std_(samples,sample_mean):\n",
    "    summation=0\n",
    "    for i in range(len(samples)):\n",
    "        summation=summation+(samples[i]-sample_mean)**2\n",
    "    \n",
    "    return (summation/9)**0.5\n",
    "sample_std=sample_std_(samples,sample_mean)\n",
    "print(\"sample standard deviation:\",sample_std)"
   ]
  },
  {
   "cell_type": "code",
   "execution_count": 4,
   "id": "43fb5dd7",
   "metadata": {},
   "outputs": [
    {
     "name": "stdout",
     "output_type": "stream",
     "text": [
      "2.2621571627409915\n"
     ]
    }
   ],
   "source": [
    "confidence_level=0.95\n",
    "alpha=1-confidence_level                                                                                    \n",
    "t_critical=t.ppf(1-alpha/2,df=9)\n",
    "print(t_critical)"
   ]
  },
  {
   "cell_type": "code",
   "execution_count": 5,
   "id": "e307dff7",
   "metadata": {},
   "outputs": [],
   "source": [
    "sample_size=10\n",
    "pop_mean=500"
   ]
  },
  {
   "cell_type": "code",
   "execution_count": 6,
   "id": "1a6c04dd",
   "metadata": {},
   "outputs": [
    {
     "name": "stdout",
     "output_type": "stream",
     "text": [
      "-1.2634751284446715\n"
     ]
    }
   ],
   "source": [
    "t_=tscore(sample_size,sample_mean,pop_mean,sample_std)\n",
    "print(t_)"
   ]
  },
  {
   "cell_type": "code",
   "execution_count": 7,
   "id": "dc9ad675",
   "metadata": {},
   "outputs": [
    {
     "data": {
      "text/plain": [
       "Text(465.3, 0.0007, 'x_bar')"
      ]
     },
     "execution_count": 7,
     "metadata": {},
     "output_type": "execute_result"
    },
    {
     "data": {
      "image/png": "[encoded data removed]",
      "text/plain": [
       "<Figure size 432x288 with 1 Axes>"
      ]
     },
     "metadata": {
      "needs_background": "light"
     },
     "output_type": "display_data"
    }
   ],
   "source": [
    "x_min = 200\n",
    "x_max = 800\n",
    "\n",
    "\n",
    "# Defining the sampling distribution mean and sampling distribution std\n",
    "mean = pop_mean\n",
    "std = sample_std / sample_size**0.5\n",
    "\n",
    "\n",
    "# Ploting the graph and setting the x limits\n",
    "x = np.linspace(x_min, x_max, 100)\n",
    "y = norm.pdf(x,mean,std)\n",
    "plt.xlim(x_min, x_max)\n",
    "plt.plot(x, y)\n",
    "\n",
    "\n",
    "\n",
    "# Computing the left and right critical values (Two tailed Test)\n",
    "t_critical_left = pop_mean + (-t_critical * std)\n",
    "t_critical_right = pop_mean + (t_critical * std)\n",
    "\n",
    "\n",
    "# Shading the left rejection region\n",
    "x1 = np.linspace(x_min, t_critical_left, 100)\n",
    "y1 = norm.pdf(x1,mean, std)\n",
    "plt.fill_between(x1, y1, color='orange')\n",
    "\n",
    "\n",
    "# Shading the right rejection region\n",
    "x2 = np.linspace(t_critical_right, x_max, 100)\n",
    "y2 = norm.pdf(x2,mean,std)\n",
    "plt.fill_between(x2, y2, color='orange')\n",
    "\n",
    "\n",
    "# Ploting the sample mean and concluding the results \n",
    "plt.scatter(sample_mean, 0)\n",
    "plt.annotate(\"x_bar\", (sample_mean, 0.0007))\n"
   ]
  },
  {
   "cell_type": "code",
   "execution_count": 8,
   "id": "fbee7857",
   "metadata": {},
   "outputs": [
    {
     "name": "stdout",
     "output_type": "stream",
     "text": [
      "Fail to reject Null Hypothesis\n"
     ]
    }
   ],
   "source": [
    "if(abs(t_) > t_critical):\n",
    "    print(\"Reject Null Hypothesis\")\n",
    "else:\n",
    "    print(\"Fail to reject Null Hypothesis\")"
   ]
  },
  {
   "cell_type": "code",
   "execution_count": 9,
   "id": "fc071663",
   "metadata": {
    "scrolled": true
   },
   "outputs": [
    {
     "name": "stdout",
     "output_type": "stream",
     "text": [
      "p_value =  0.20641847943818092\n",
      "Fail to reject Null Hypothesis\n"
     ]
    }
   ],
   "source": [
    "p_value = 2 * (1.0 - norm.cdf(np.abs(t_)))\n",
    "print(\"p_value = \", p_value)\n",
    "if(p_value < alpha):\n",
    "    print(\"Reject Null Hypothesis\")\n",
    "else:\n",
    "    print(\"Fail to reject Null Hypothesis\")"
   ]
  },
  {
   "cell_type": "markdown",
   "id": "f0dbb27e",
   "metadata": {},
   "source": [
    "## Practical Example - 2"
   ]
  },
  {
   "cell_type": "markdown",
   "id": "030c4442",
   "metadata": {},
   "source": [
    "__Q-2: You have developed a new Natural Language Processing Algorithms and done a user study. You claim that the average rating given by the users is greater than 4 on a scale of 1 to 5. How do you prove this to your client?__  \n",
    "- - -\n",
    "Step 1:  \n",
    "  \n",
    "Alternate Hypothesis (Bold Claim) :  \n",
    "$$ H_1: Average\\, rating\\, given\\, by\\, the \\,users\\, is\\, greater\\, than \\,4 $$ \n",
    "$$\\mu>4$$\n",
    "Null Hypothesis (status quo):  \n",
    "$$ H_0: Average\\, rating\\, given\\, by \\,the \\,users\\, i, less thanorequalto\\, 4 $$\n",
    "$$\\mu\\leq4$$\n",
    "step - 2:  \n",
    "  \n",
    "- Collect a sample of size n=12  \n",
    "  \n",
    "$$ [4,3,5,4,5,3,5,5,4,2,4,5,5,4,4,5,4,5,4,5] $$\n",
    "  \n",
    "- Compute sample mean  \n",
    "$$\\bar{x}=4.25 $$\n",
    "  \n",
    "Step - 3: compute Test Statistic:  \n",
    "  \n",
    "since standard deviation is not provide we compute t score where,  \n",
    "$$ t=\\frac{\\bar{x}-\\mu}{\\frac{s}{\\sqrt[2]{n}}}=1.3483997249264843 $$  \n",
    "Step - 4: Decide $\\alpha$ or significance level  \n",
    "$$\\alpha=0.95$$\n",
    "step - 5.1: one  Tailed t-test:  \n",
    "- Right Tailed t-test:  \n",
    " $$  t > t_{n-1,\\alpha} \\implies Accept H_1 or Reject H_0 $$\n",
    " \n",
    "$$From\\, the \\,above\\,condition \\,we \\,failed\\,to\\,reject\\,Null\\,Hypothesis$$  \n",
    "step - 5.2:Calculate P-value  \n",
    "$$Calculated \\,P- value \\,is\\, :\\, 0.17752985241215358 $$\n",
    "$$if \\,P -value > alpha\\,: \\,reject \\,null\\, hypothesis$$\n",
    "$$ Hence,\\,we\\, failed\\, to\\, reject\\, null\\, hypohthesis$$\n"
   ]
  },
  {
   "cell_type": "code",
   "execution_count": 10,
   "id": "2e270e07",
   "metadata": {},
   "outputs": [
    {
     "name": "stdout",
     "output_type": "stream",
     "text": [
      "1.729132811521367\n"
     ]
    }
   ],
   "source": [
    "# One Tail - Calculating the z-critical value\n",
    "\n",
    "confidence_level = 0.95\n",
    "\n",
    "alpha = 1 - confidence_level\n",
    "\n",
    "t_critical = t.ppf(1 - alpha,df=19)\n",
    "\n",
    "print(t_critical)\n"
   ]
  },
  {
   "cell_type": "code",
   "execution_count": 11,
   "id": "8f2d0ca6",
   "metadata": {},
   "outputs": [],
   "source": [
    "sample_size = 20\n",
    "sample_mean = 4.25\n",
    "pop_mean=4\n"
   ]
  },
  {
   "cell_type": "code",
   "execution_count": 12,
   "id": "2be81faf",
   "metadata": {},
   "outputs": [
    {
     "name": "stdout",
     "output_type": "stream",
     "text": [
      "sample mean: 4.25\n",
      "sample standard deviation: 0.82915619758885\n"
     ]
    }
   ],
   "source": [
    "samples=[4,3,5,4,5,3,5,5,4,2,4,5,5,4,4,5,4,5,4,5]\n",
    "sample_mean=np.array(samples).mean()\n",
    "print(\"sample mean:\",sample_mean)\n",
    "def sample_std_(samples,sample_mean):\n",
    "    summation=0\n",
    "    for i in range(len(samples)):\n",
    "        summation=summation+(samples[i]-sample_mean)**2\n",
    "    \n",
    "    return (summation/len(samples))**0.5\n",
    "sample_std=sample_std_(samples,sample_mean)\n",
    "print(\"sample standard deviation:\",sample_std)"
   ]
  },
  {
   "cell_type": "code",
   "execution_count": 13,
   "id": "f2c3062b",
   "metadata": {},
   "outputs": [
    {
     "name": "stdout",
     "output_type": "stream",
     "text": [
      "1.3483997249264843\n"
     ]
    }
   ],
   "source": [
    "t_=tscore(sample_size,sample_mean,pop_mean,sample_std)\n",
    "print(t_)"
   ]
  },
  {
   "cell_type": "code",
   "execution_count": 14,
   "id": "3ee76b39",
   "metadata": {},
   "outputs": [
    {
     "data": {
      "text/plain": [
       "Text(4.25, 0.0007, 'x_bar')"
      ]
     },
     "execution_count": 14,
     "metadata": {},
     "output_type": "execute_result"
    },
    {
     "data": {
      "image/png": "[encoded data removed]",
      "text/plain": [
       "<Figure size 432x288 with 1 Axes>"
      ]
     },
     "metadata": {
      "needs_background": "light"
     },
     "output_type": "display_data"
    }
   ],
   "source": [
    "#plotting\n",
    "x_min = 2\n",
    "x_max = 6\n",
    "\n",
    "\n",
    "# Defining the sampling distribution mean and sampling distribution std\n",
    "mean = pop_mean\n",
    "std = sample_std / sample_size**0.5\n",
    "\n",
    "\n",
    "# Ploting the graph and setting the x limits\n",
    "x = np.linspace(x_min, x_max, 100)\n",
    "y = norm.pdf(x,mean,std)\n",
    "plt.xlim(x_min, x_max)\n",
    "plt.plot(x, y)\n",
    "\n",
    "\n",
    "\n",
    "# Computing the left and right critical values (Two tailed Test)\n",
    "t_critical_left = pop_mean + (-t_critical * std)\n",
    "t_critical_right = pop_mean + (t_critical * std)\n",
    "\n",
    "\n",
    "\n",
    "\n",
    "# Shading the right rejection region\n",
    "x2 = np.linspace(t_critical_right, x_max, 100)\n",
    "y2 = norm.pdf(x2,mean,std)\n",
    "plt.fill_between(x2, y2, color='orange')\n",
    "\n",
    "\n",
    "# Ploting the sample mean and concluding the results \n",
    "plt.scatter(sample_mean, 0)\n",
    "plt.annotate(\"x_bar\", (sample_mean, 0.0007))\n"
   ]
  },
  {
   "cell_type": "code",
   "execution_count": 15,
   "id": "b4094419",
   "metadata": {},
   "outputs": [
    {
     "name": "stdout",
     "output_type": "stream",
     "text": [
      "Fail to reject Null Hypothesis\n"
     ]
    }
   ],
   "source": [
    "if(abs(t_) > t_critical):\n",
    "    print(\"Reject Null Hypothesis\")\n",
    "else:\n",
    "    print(\"Fail to reject Null Hypothesis\")"
   ]
  },
  {
   "cell_type": "code",
   "execution_count": 16,
   "id": "d71d2519",
   "metadata": {},
   "outputs": [
    {
     "name": "stdout",
     "output_type": "stream",
     "text": [
      "p_value =  0.17752985241215358\n",
      "Fail to reject Null Hypothesis\n"
     ]
    }
   ],
   "source": [
    "p_value = 2 * (1.0 - norm.cdf(np.abs(t_)))\n",
    "print(\"p_value = \", p_value)\n",
    "if(p_value < alpha):\n",
    "    print(\"Reject Null Hypothesis\")\n",
    "else:\n",
    "    print(\"Fail to reject Null Hypothesis\")"
   ]
  },
  {
   "cell_type": "markdown",
   "id": "66c4afe6",
   "metadata": {},
   "source": [
    "## Practical Example - 3"
   ]
  },
  {
   "cell_type": "markdown",
   "id": "02567d80",
   "metadata": {},
   "source": [
    "__Q-3: TATA has developed a better fuel management system for the SUV segment. They claim that with this system, on average the SUV's mileage is at least 15 km/litre?__ \n",
    "- - -\n",
    "Step 1:  \n",
    "  \n",
    "Alternate Hypothesis (Bold Claim) :  \n",
    "$$ H_1: Average SUV's mileage is less than 15km/hr $$ \n",
    "$$\\mu<15km/hr$$\n",
    "Null Hypothesis (status quo):  \n",
    "$$ H_0: Average SUV's mileage is greater than or equal to 15km/hr $$\n",
    "$$\\mu\\geq15km/hr$$\n",
    "step - 2:  \n",
    "  \n",
    "- Collect a sample of size n=10\n",
    "  \n",
    "$$ [14.08, 14.13, 15.65, 13.78, 16.26, 14.97, 15.36, 15.81, 14.53, 16.79, 15.78, 16.98, 13.23, 15.43, 15.46, 13.88, 14.31, 14.41, 15.76, 15.38] $$\n",
    "  \n",
    "- Compute sample mean  \n",
    "$$\\bar{x}=15.1 $$\n",
    "  \n",
    "Step - 3: compute Test Statistic:  \n",
    "  \n",
    "since standard deviation is not provide we compute t score where,  \n",
    "$$ t=\\frac{\\bar{x}-\\mu}{\\frac{s}{\\sqrt[2]{n}}}=0.44748014931892083 $$  \n",
    "Step - 4: Decide $\\alpha$ or significance level  \n",
    "$$\\alpha=0.95$$\n",
    "step - 5.1: one  Tailed t-test:  \n",
    " - Right Tailed t-test:  \n",
    " $$  t > t_{n-1,\\alpha} \\implies Accept H_1 or Reject H_0 $$\n",
    "\n",
    "\n",
    "$$From\\, the \\,above\\,condition \\,we \\,failed\\,to\\,reject\\,Null\\,Hypothesis$$  \n",
    "step - 5.2:Calculate P-value  \n",
    "$$Calculated \\,P- value \\,is\\, :\\, 0.6545284174132713 $$\n",
    "$$if \\,P -value > alpha\\,: \\,reject \\,null\\, hypothesis$$\n",
    "$$ Hence,\\,we\\, failed\\, to\\, reject\\, null\\, hypohthesis$$\n"
   ]
  },
  {
   "cell_type": "code",
   "execution_count": 17,
   "id": "a7c885ef",
   "metadata": {},
   "outputs": [
    {
     "name": "stdout",
     "output_type": "stream",
     "text": [
      "1.729132811521367\n"
     ]
    }
   ],
   "source": [
    "# One Tail - Calculating the z-critical value\n",
    "\n",
    "confidence_level = 0.95\n",
    "\n",
    "alpha = 1 - confidence_level\n",
    "\n",
    "t_critical = t.ppf(1 - alpha,df=19)\n",
    "\n",
    "print(t_critical)\n"
   ]
  },
  {
   "cell_type": "code",
   "execution_count": 18,
   "id": "72c5ecf1",
   "metadata": {},
   "outputs": [
    {
     "name": "stdout",
     "output_type": "stream",
     "text": [
      "sample mean: 15.099\n",
      "sample standard deviation: 0.9994043225842081\n"
     ]
    }
   ],
   "source": [
    "samples=[14.08, 14.13, 15.65, 13.78, 16.26, 14.97, 15.36, 15.81, 14.53, 16.79, 15.78, 16.98, 13.23, 15.43, 15.46, 13.88, 14.31, 14.41, 15.76, 15.38] \n",
    "sample_mean=np.array(samples).mean()\n",
    "print(\"sample mean:\",sample_mean)\n",
    "def sample_std_(samples,sample_mean):\n",
    "    summation=0\n",
    "    for i in range(len(samples)):\n",
    "        summation=summation+(samples[i]-sample_mean)**2\n",
    "    \n",
    "    return (summation/len(samples))**0.5\n",
    "sample_std=sample_std_(samples,sample_mean)\n",
    "print(\"sample standard deviation:\",sample_std)"
   ]
  },
  {
   "cell_type": "code",
   "execution_count": 19,
   "id": "433f3f47",
   "metadata": {},
   "outputs": [],
   "source": [
    "sample_size = 20\n",
    "sample_mean = 15.1\n",
    "pop_mean = 15\n",
    "pop_std = 1"
   ]
  },
  {
   "cell_type": "code",
   "execution_count": 20,
   "id": "6ded6782",
   "metadata": {},
   "outputs": [
    {
     "name": "stdout",
     "output_type": "stream",
     "text": [
      "0.44748014931892083\n"
     ]
    }
   ],
   "source": [
    "t_=tscore(sample_size,sample_mean,pop_mean,sample_std)\n",
    "print(t_)"
   ]
  },
  {
   "cell_type": "code",
   "execution_count": 21,
   "id": "3a560f74",
   "metadata": {},
   "outputs": [
    {
     "data": {
      "text/plain": [
       "Text(15.1, 0.1, 'x_bar')"
      ]
     },
     "execution_count": 21,
     "metadata": {},
     "output_type": "execute_result"
    },
    {
     "data": {
      "image/png": "[encoded data removed]",
      "text/plain": [
       "<Figure size 432x288 with 1 Axes>"
      ]
     },
     "metadata": {
      "needs_background": "light"
     },
     "output_type": "display_data"
    }
   ],
   "source": [
    "x_min = 13\n",
    "x_max = 17\n",
    "\n",
    "mean = pop_mean\n",
    "std = pop_std / (sample_size**0.5)\n",
    "\n",
    "x = np.linspace(x_min, x_max, 100)\n",
    "y = norm.pdf(x, mean, std)\n",
    "\n",
    "plt.xlim(x_min, x_max)\n",
    "# plt.ylim(0, 0.03)\n",
    "\n",
    "plt.plot(x, y)\n",
    "\n",
    "t_critical_right = pop_mean + (t_critical * std)\n",
    "\n",
    "x1 = np.linspace(t_critical_right, x_max, 100)\n",
    "y1 = norm.pdf(x1, mean, std)\n",
    "plt.fill_between(x1, y1, color='orange')\n",
    "\n",
    "plt.scatter(sample_mean, 0)\n",
    "plt.annotate(\"x_bar\", (sample_mean, 0.1))\n"
   ]
  },
  {
   "cell_type": "code",
   "execution_count": 22,
   "id": "ac6b322b",
   "metadata": {},
   "outputs": [
    {
     "name": "stdout",
     "output_type": "stream",
     "text": [
      "Fail to reject Null Hypothesis\n"
     ]
    }
   ],
   "source": [
    "if(abs(t_) > t_critical):\n",
    "    print(\"Reject Null Hypothesis\")\n",
    "else:\n",
    "    print(\"Fail to reject Null Hypothesis\")"
   ]
  },
  {
   "cell_type": "code",
   "execution_count": 23,
   "id": "323ec967",
   "metadata": {},
   "outputs": [
    {
     "name": "stdout",
     "output_type": "stream",
     "text": [
      "p_value =  0.6545284174132713\n",
      "Fail to reject Null Hypothesis\n"
     ]
    }
   ],
   "source": [
    "p_value = 2 * (1.0 - norm.cdf(abs(t_)))\n",
    "print(\"p_value = \", p_value)\n",
    "if(p_value < alpha):\n",
    "    print(\"Reject Null Hypothesis\")\n",
    "else:\n",
    "    print(\"Fail to reject Null Hypothesis\")"
   ]
  },
  {
   "cell_type": "code",
   "execution_count": null,
   "id": "833ea4c6",
   "metadata": {},
   "outputs": [],
   "source": []
  },
  {
   "cell_type": "markdown",
   "id": "23047687",
   "metadata": {},
   "source": [
    "## Practical Example - 4"
   ]
  },
  {
   "cell_type": "markdown",
   "id": "87b35687",
   "metadata": {},
   "source": [
    "__Q-4: You have developed a new Machine Learning Application and claim that on average it takes less than 100 ms to predict for any future datapoint. How do you convince your client about this claim?__\n",
    "- - - \n",
    "Step 1:  \n",
    "  \n",
    "Alternate Hypothesis (Bold Claim) :  \n",
    "$$ H_1: Average\\,MachineLearning\\, Model\\,takes \\,lessthan\\,100ms\\,to\\,predict \\,any\\,future \\,data point 4 $$  \n",
    "$$\\mu < 100$$\n",
    "Null Hypothesis (status quo):  \n",
    "$$ H_0: Average\\,MachineLearning\\, Model\\,takes \\,greater than or equal to\\,100ms\\,to\\,predict \\,any\\,future \\,data point  $$\n",
    "$$\\mu\\geq100$$\n",
    "step - 2:  \n",
    "  \n",
    "- Collect a sample of size n=10\n",
    "  \n",
    "  $$[120,100,98,88,115,88,78,99,121,102] $$\n",
    "- Compute sample mean  \n",
    "$$\\bar{x}=100.9 $$\n",
    "  \n",
    "Step - 3: compute Test Statistic:  \n",
    "  \n",
    "since standard deviation is not provide we compute t score where,  \n",
    "$$ t=\\frac{\\bar{x}-\\mu}{\\frac{s}{\\sqrt[2]{n}}}= 0.20987632600435635$$  \n",
    "Step - 4: Decide $\\alpha$ or significance level  \n",
    "$$\\alpha=0.99$$\n",
    "step - 5.1: one  Tailed t-test:  \n",
    "- Left tailed t-test:  \n",
    " $$  t < t_{n-1,\\alpha} \\implies Accept H_1 or Reject H_0 $$\n",
    "$$From\\, the \\,above\\,condition \\,we \\,failed\\,to\\,reject\\,Null\\,Hypothesis$$  \n",
    "  \n",
    "Step - 5.2:Calculate P-value  \n",
    "$$Calculated \\,P- value \\,is\\, :\\, 0.8337641998328718 $$\n",
    "$$if \\,P -value > alpha\\,: \\,reject \\,null\\, hypothesis$$\n",
    "$$ Hence,\\,we\\, failed\\, to\\, reject\\, null\\, hypohthesis$$\n"
   ]
  },
  {
   "cell_type": "code",
   "execution_count": 4,
   "id": "3176a79e",
   "metadata": {},
   "outputs": [
    {
     "name": "stdout",
     "output_type": "stream",
     "text": [
      "2.8214379233005493\n"
     ]
    }
   ],
   "source": [
    "alpha = 1 - 0.99\n",
    "\n",
    "t_critical = t.ppf(1 - alpha,df=9)\n",
    "\n",
    "print(t_critical)\n"
   ]
  },
  {
   "cell_type": "code",
   "execution_count": 5,
   "id": "d7216c1f",
   "metadata": {
    "scrolled": true
   },
   "outputs": [
    {
     "name": "stdout",
     "output_type": "stream",
     "text": [
      "sample mean: 100.9\n",
      "sample standard deviation: 13.560604706280618\n"
     ]
    }
   ],
   "source": [
    "samples=[120,100,98,88,115,88,78,99,121,102] \n",
    "sample_mean=np.array(samples).mean()\n",
    "print(\"sample mean:\",sample_mean)\n",
    "def sample_std_(samples,sample_mean):\n",
    "    summation=0\n",
    "    for i in range(len(samples)):\n",
    "        summation=summation+(samples[i]-sample_mean)**2\n",
    "    \n",
    "    return (summation/len(samples))**0.5\n",
    "sample_std=sample_std_(samples,sample_mean)\n",
    "print(\"sample standard deviation:\",sample_std)"
   ]
  },
  {
   "cell_type": "code",
   "execution_count": 12,
   "id": "0bd4e922",
   "metadata": {},
   "outputs": [],
   "source": [
    "sample_size =10\n",
    "sample_mean=100.9\n",
    "pop_mean=100\n",
    "pop_std=15"
   ]
  },
  {
   "cell_type": "code",
   "execution_count": 13,
   "id": "99b15af1",
   "metadata": {},
   "outputs": [
    {
     "name": "stdout",
     "output_type": "stream",
     "text": [
      "0.20987632600435635\n"
     ]
    }
   ],
   "source": [
    "t_=tscore(sample_size,sample_mean,pop_mean,sample_std)\n",
    "print(t_)"
   ]
  },
  {
   "cell_type": "code",
   "execution_count": 17,
   "id": "c584fa6e",
   "metadata": {},
   "outputs": [
    {
     "data": {
      "text/plain": [
       "Text(100.9, 0.002, 'x_bar')"
      ]
     },
     "execution_count": 17,
     "metadata": {},
     "output_type": "execute_result"
    },
    {
     "data": {
      "image/png": "[encoded data removed]",
      "text/plain": [
       "<Figure size 432x288 with 1 Axes>"
      ]
     },
     "metadata": {
      "needs_background": "light"
     },
     "output_type": "display_data"
    }
   ],
   "source": [
    "x_min = 70\n",
    "x_max = 130\n",
    "\n",
    "mean = pop_mean\n",
    "std = pop_std / (sample_size**0.5)\n",
    "\n",
    "x = np.linspace(x_min, x_max, 100)\n",
    "y = norm.pdf(x, mean, std)\n",
    "\n",
    "plt.xlim(x_min, x_max)\n",
    "# plt.ylim(0, 0.03)\n",
    "\n",
    "plt.plot(x, y)\n",
    "\n",
    "t_critical_left = pop_mean + (-t_critical * std)\n",
    "\n",
    "x1 = np.linspace(x_min, t_critical_left, 100)\n",
    "y1 = norm.pdf(x1, mean, std)\n",
    "plt.fill_between(x1, y1, color='orange')\n",
    "\n",
    "plt.scatter(sample_mean, 0)\n",
    "plt.annotate(\"x_bar\", (sample_mean, 0.002))\n"
   ]
  },
  {
   "cell_type": "code",
   "execution_count": 15,
   "id": "ebdb4146",
   "metadata": {},
   "outputs": [
    {
     "name": "stdout",
     "output_type": "stream",
     "text": [
      "Fail to reject Null Hypothesis\n"
     ]
    }
   ],
   "source": [
    "if(abs(t_) > t_critical):\n",
    "    print(\"Reject Null Hypothesis\")\n",
    "else:\n",
    "    print(\"Fail to reject Null Hypothesis\")"
   ]
  },
  {
   "cell_type": "code",
   "execution_count": 16,
   "id": "d132841f",
   "metadata": {},
   "outputs": [
    {
     "name": "stdout",
     "output_type": "stream",
     "text": [
      "p_value =  0.8337641998328718\n",
      "Fail to reject Null Hypothesis\n"
     ]
    }
   ],
   "source": [
    "p_value = 2 * (1.0 - norm.cdf(abs(t_)))\n",
    "print(\"p_value = \", p_value)\n",
    "if(p_value < alpha):\n",
    "    print(\"Reject Null Hypothesis\")\n",
    "else:\n",
    "    print(\"Fail to reject Null Hypothesis\")"
   ]
  },
  {
   "cell_type": "code",
   "execution_count": null,
   "id": "12907bd3",
   "metadata": {},
   "outputs": [],
   "source": []
  }
 ],
 "metadata": {
  "kernelspec": {
   "display_name": "Python 3",
   "language": "python",
   "name": "python3"
  },
  "language_info": {
   "codemirror_mode": {
    "name": "ipython",
    "version": 3
   },
   "file_extension": ".py",
   "mimetype": "text/x-python",
   "name": "python",
   "nbconvert_exporter": "python",
   "pygments_lexer": "ipython3",
   "version": "3.8.5"
  }
 },
 "nbformat": 4,
 "nbformat_minor": 5
}
