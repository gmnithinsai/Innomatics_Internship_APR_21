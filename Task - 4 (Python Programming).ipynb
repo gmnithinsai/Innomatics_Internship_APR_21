{
 "cells": [
  {
   "cell_type": "markdown",
   "metadata": {},
   "source": [
    "# Task - 4 (Python Programming)"
   ]
  },
  {
   "cell_type": "markdown",
   "metadata": {},
   "source": [
    "## sWAP cASE"
   ]
  },
  {
   "cell_type": "code",
   "execution_count": 149,
   "metadata": {},
   "outputs": [
    {
     "name": "stdout",
     "output_type": "stream",
     "text": [
      "nithin SAI\n",
      "NITHIN sai\n"
     ]
    }
   ],
   "source": [
    "def swap_case(s):\n",
    "    news=''\n",
    "    \n",
    "    for i in s:\n",
    "        if (i.isupper())==True:\n",
    "            news=news+i.lower()\n",
    "        elif (i.islower())==True:\n",
    "            news=news+i.upper()\n",
    "        else:\n",
    "            news=news+i\n",
    "    return news\n",
    "s=input()\n",
    "print(swap_case(s))"
   ]
  },
  {
   "cell_type": "markdown",
   "metadata": {},
   "source": [
    "## String Split and join"
   ]
  },
  {
   "cell_type": "code",
   "execution_count": 95,
   "metadata": {},
   "outputs": [
    {
     "ename": "TypeError",
     "evalue": "sequence item 0: expected str instance, int found",
     "output_type": "error",
     "traceback": [
      "\u001b[1;31m---------------------------------------------------------------------------\u001b[0m",
      "\u001b[1;31mTypeError\u001b[0m                                 Traceback (most recent call last)",
      "\u001b[1;32m<ipython-input-95-1a772bbaab07>\u001b[0m in \u001b[0;36m<module>\u001b[1;34m\u001b[0m\n\u001b[0;32m      2\u001b[0m \u001b[1;32mfor\u001b[0m \u001b[0mi\u001b[0m \u001b[1;32min\u001b[0m \u001b[0mrange\u001b[0m\u001b[1;33m(\u001b[0m\u001b[0mlen\u001b[0m\u001b[1;33m(\u001b[0m\u001b[0ma\u001b[0m\u001b[1;33m)\u001b[0m\u001b[1;33m)\u001b[0m\u001b[1;33m:\u001b[0m\u001b[1;33m\u001b[0m\u001b[1;33m\u001b[0m\u001b[0m\n\u001b[0;32m      3\u001b[0m     \u001b[0msi\u001b[0m\u001b[1;33m=\u001b[0m\u001b[0mi\u001b[0m\u001b[1;33m+\u001b[0m\u001b[1;36m1\u001b[0m\u001b[1;33m\u001b[0m\u001b[1;33m\u001b[0m\u001b[0m\n\u001b[1;32m----> 4\u001b[1;33m     \u001b[0mprint\u001b[0m\u001b[1;33m(\u001b[0m\u001b[1;34m' '\u001b[0m\u001b[1;33m.\u001b[0m\u001b[0mjoin\u001b[0m\u001b[1;33m(\u001b[0m\u001b[1;33m(\u001b[0m\u001b[0ma\u001b[0m\u001b[1;33m[\u001b[0m\u001b[1;33m:\u001b[0m\u001b[0msi\u001b[0m\u001b[1;33m]\u001b[0m\u001b[1;33m)\u001b[0m\u001b[1;33m)\u001b[0m\u001b[1;33m)\u001b[0m\u001b[1;33m\u001b[0m\u001b[1;33m\u001b[0m\u001b[0m\n\u001b[0m",
      "\u001b[1;31mTypeError\u001b[0m: sequence item 0: expected str instance, int found"
     ]
    }
   ],
   "source": [
    "a=[1,2,3,4,5]\n",
    "for i in range(len(a)):\n",
    "    si=i+1\n",
    "    print(' '.join((a[:si])))"
   ]
  },
  {
   "cell_type": "code",
   "execution_count": 150,
   "metadata": {},
   "outputs": [
    {
     "name": "stdout",
     "output_type": "stream",
     "text": [
      "nithin sai\n",
      "nithin-sai\n"
     ]
    }
   ],
   "source": [
    "def split_and_join(line):\n",
    "    a=line.split()\n",
    "    return('-'.join(a))\n",
    "s=input()\n",
    "print(split_and_join(s))\n"
   ]
  },
  {
   "cell_type": "markdown",
   "metadata": {},
   "source": [
    "## What's your name?"
   ]
  },
  {
   "cell_type": "code",
   "execution_count": 153,
   "metadata": {},
   "outputs": [
    {
     "name": "stdout",
     "output_type": "stream",
     "text": [
      "nithin sai\n",
      "Hello nithin sai! You just delved into python.\n"
     ]
    }
   ],
   "source": [
    "def print_full_name(first, last):\n",
    "    print(\"Hello\",first,last+\"!\",\"You just delved into python.\")\n",
    "f,l=map(str,input().split())\n",
    "print_full_name(f,l)\n"
   ]
  },
  {
   "cell_type": "markdown",
   "metadata": {},
   "source": [
    "## Mutations"
   ]
  },
  {
   "cell_type": "code",
   "execution_count": 154,
   "metadata": {},
   "outputs": [
    {
     "name": "stdout",
     "output_type": "stream",
     "text": [
      "nithin\n",
      "4\n",
      "s\n",
      "nithsn\n"
     ]
    }
   ],
   "source": [
    "def mutate_string(string, position, character):\n",
    "    strings=string[0:position]+character+string[position+1:]\n",
    "    return strings\n",
    "s=input()\n",
    "p=int(input())\n",
    "c=input()\n",
    "print(mutate_string(s,p,c))"
   ]
  },
  {
   "cell_type": "markdown",
   "metadata": {},
   "source": [
    "## Find a string "
   ]
  },
  {
   "cell_type": "code",
   "execution_count": 155,
   "metadata": {},
   "outputs": [
    {
     "name": "stdout",
     "output_type": "stream",
     "text": [
      "nithin nithin nithinnithin\n",
      "nithin\n",
      "4\n"
     ]
    }
   ],
   "source": [
    "def count_substring(string, sub_string):\n",
    "    count=0\n",
    "    for i in range(len(string)-len(sub_string)+1):\n",
    "        if ''.join(string[i:i+len(sub_string)])==sub_string:\n",
    "            count+=1\n",
    "    return count\n",
    "s=input()\n",
    "sub=input()\n",
    "print(count_substring(s,sub))"
   ]
  },
  {
   "cell_type": "markdown",
   "metadata": {},
   "source": [
    "## String Validators"
   ]
  },
  {
   "cell_type": "code",
   "execution_count": 157,
   "metadata": {},
   "outputs": [
    {
     "name": "stdout",
     "output_type": "stream",
     "text": [
      "nithin\n",
      "True\n",
      "True\n",
      "False\n",
      "True\n",
      "False\n"
     ]
    }
   ],
   "source": [
    "s = input()\n",
    "print(any(i.isalnum() for i in s))\n",
    "print(any(i.isalpha()for i in s))\n",
    "print(any(i.isdigit() for i in s))\n",
    "print(any(i.islower() for i in s))\n",
    "print(any(i.isupper() for i in s))\n",
    "    \n"
   ]
  },
  {
   "cell_type": "code",
   "execution_count": 158,
   "metadata": {},
   "outputs": [
    {
     "name": "stdout",
     "output_type": "stream",
     "text": [
      "5\n"
     ]
    },
    {
     "ename": "AttributeError",
     "evalue": "'str' object has no attribute '______'",
     "output_type": "error",
     "traceback": [
      "\u001b[1;31m---------------------------------------------------------------------------\u001b[0m",
      "\u001b[1;31mAttributeError\u001b[0m                            Traceback (most recent call last)",
      "\u001b[1;32m<ipython-input-158-b5d552ca472e>\u001b[0m in \u001b[0;36m<module>\u001b[1;34m\u001b[0m\n\u001b[0;32m      4\u001b[0m \u001b[1;31m#Top Cone\u001b[0m\u001b[1;33m\u001b[0m\u001b[1;33m\u001b[0m\u001b[1;33m\u001b[0m\u001b[0m\n\u001b[0;32m      5\u001b[0m \u001b[1;32mfor\u001b[0m \u001b[0mi\u001b[0m \u001b[1;32min\u001b[0m \u001b[0mrange\u001b[0m\u001b[1;33m(\u001b[0m\u001b[0mthickness\u001b[0m\u001b[1;33m)\u001b[0m\u001b[1;33m:\u001b[0m\u001b[1;33m\u001b[0m\u001b[1;33m\u001b[0m\u001b[0m\n\u001b[1;32m----> 6\u001b[1;33m     \u001b[0mprint\u001b[0m\u001b[1;33m(\u001b[0m\u001b[1;33m(\u001b[0m\u001b[0mc\u001b[0m\u001b[1;33m*\u001b[0m\u001b[0mi\u001b[0m\u001b[1;33m)\u001b[0m\u001b[1;33m.\u001b[0m\u001b[0m______\u001b[0m\u001b[1;33m(\u001b[0m\u001b[0mthickness\u001b[0m\u001b[1;33m-\u001b[0m\u001b[1;36m1\u001b[0m\u001b[1;33m)\u001b[0m\u001b[1;33m+\u001b[0m\u001b[0mc\u001b[0m\u001b[1;33m+\u001b[0m\u001b[1;33m(\u001b[0m\u001b[0mc\u001b[0m\u001b[1;33m*\u001b[0m\u001b[0mi\u001b[0m\u001b[1;33m)\u001b[0m\u001b[1;33m.\u001b[0m\u001b[0m______\u001b[0m\u001b[1;33m(\u001b[0m\u001b[0mthickness\u001b[0m\u001b[1;33m-\u001b[0m\u001b[1;36m1\u001b[0m\u001b[1;33m)\u001b[0m\u001b[1;33m)\u001b[0m\u001b[1;33m\u001b[0m\u001b[1;33m\u001b[0m\u001b[0m\n\u001b[0m\u001b[0;32m      7\u001b[0m \u001b[1;33m\u001b[0m\u001b[0m\n\u001b[0;32m      8\u001b[0m \u001b[1;31m#Top Pillars\u001b[0m\u001b[1;33m\u001b[0m\u001b[1;33m\u001b[0m\u001b[1;33m\u001b[0m\u001b[0m\n",
      "\u001b[1;31mAttributeError\u001b[0m: 'str' object has no attribute '______'"
     ]
    }
   ],
   "source": [
    "thickness = int(input()) #This must be an odd number\n",
    "c = 'H'\n",
    "\n",
    "#Top Cone\n",
    "for i in range(thickness):\n",
    "    print((c*i).______(thickness-1)+c+(c*i).______(thickness-1))\n",
    "\n",
    "#Top Pillars\n",
    "for i in range(thickness+1):\n",
    "    print((c*thickness).______(thickness*2)+(c*thickness).______(thickness*6))\n",
    "\n",
    "#Middle Belt\n",
    "for i in range((thickness+1)//2):\n",
    "    print((c*thickness*5).______(thickness*6))    \n",
    "\n",
    "#Bottom Pillars\n",
    "for i in range(thickness+1):\n",
    "    print((c*thickness).______(thickness*2)+(c*thickness).______(thickness*6))    \n",
    "\n",
    "#Bottom Cone\n",
    "for i in range(thickness):\n",
    "    print(((c*(thickness-i-1)).______(thickness)+c+(c*(thickness-i-1)).______(thickness)).______(thickness*6))"
   ]
  },
  {
   "cell_type": "markdown",
   "metadata": {},
   "source": [
    "## Text Alignment"
   ]
  },
  {
   "cell_type": "code",
   "execution_count": 159,
   "metadata": {},
   "outputs": [
    {
     "name": "stdout",
     "output_type": "stream",
     "text": [
      "5\n",
      "    H    \n",
      "   HHH   \n",
      "  HHHHH  \n",
      " HHHHHHH \n",
      "HHHHHHHHH\n",
      "  HHHHH               HHHHH             \n",
      "  HHHHH               HHHHH             \n",
      "  HHHHH               HHHHH             \n",
      "  HHHHH               HHHHH             \n",
      "  HHHHH               HHHHH             \n",
      "  HHHHH               HHHHH             \n",
      "  HHHHHHHHHHHHHHHHHHHHHHHHH   \n",
      "  HHHHHHHHHHHHHHHHHHHHHHHHH   \n",
      "  HHHHHHHHHHHHHHHHHHHHHHHHH   \n",
      "  HHHHH               HHHHH             \n",
      "  HHHHH               HHHHH             \n",
      "  HHHHH               HHHHH             \n",
      "  HHHHH               HHHHH             \n",
      "  HHHHH               HHHHH             \n",
      "  HHHHH               HHHHH             \n",
      "                    HHHHHHHHH \n",
      "                     HHHHHHH  \n",
      "                      HHHHH   \n",
      "                       HHH    \n",
      "                        H     \n"
     ]
    }
   ],
   "source": [
    "thickness = int(input()) #This must be an odd number\n",
    "c = 'H'\n",
    "\n",
    "#Top Cone\n",
    "for i in range(thickness):\n",
    "    print((c*i).rjust(thickness-1)+c+(c*i).ljust(thickness-1))\n",
    "\n",
    "#Top Pillars\n",
    "for i in range(thickness+1):\n",
    "    print((c*thickness).center(thickness*2)+(c*thickness).center(thickness*6))\n",
    "\n",
    "#Middle Belt\n",
    "for i in range((thickness+1)//2):\n",
    "    print((c*thickness*5).center(thickness*6))    \n",
    "\n",
    "#Bottom Pillars\n",
    "for i in range(thickness+1):\n",
    "    print((c*thickness).center(thickness*2)+(c*thickness).center(thickness*6))    \n",
    "\n",
    "#Bottom Cone\n",
    "for i in range(thickness):\n",
    "    print(((c*(thickness-i-1)).rjust(thickness)+c+(c*(thickness-i-1)).ljust(thickness)).rjust(thickness*6))\n"
   ]
  },
  {
   "cell_type": "markdown",
   "metadata": {},
   "source": [
    "## Text wrap"
   ]
  },
  {
   "cell_type": "code",
   "execution_count": 162,
   "metadata": {},
   "outputs": [
    {
     "name": "stdout",
     "output_type": "stream",
     "text": [
      "nithin sai\n",
      "3\n",
      "nit\n",
      "hin\n",
      "sai\n"
     ]
    }
   ],
   "source": [
    "import textwrap\n",
    "def wrap(string, max_width):\n",
    "    return textwrap.fill(string,max_width)\n",
    "s=input()\n",
    "w=int(input())\n",
    "print(wrap(s,w))"
   ]
  },
  {
   "cell_type": "markdown",
   "metadata": {},
   "source": [
    "## Designer Door mat"
   ]
  },
  {
   "cell_type": "code",
   "execution_count": 163,
   "metadata": {},
   "outputs": [
    {
     "name": "stdout",
     "output_type": "stream",
     "text": [
      "7 21\n",
      "---------.|.---------\n",
      "------.|..|..|.------\n",
      "---.|..|..|..|..|.---\n",
      "-------WELCOME-------\n",
      "---.|..|..|..|..|.---\n",
      "------.|..|..|.------\n",
      "---------.|.---------\n"
     ]
    }
   ],
   "source": [
    "m,n=map(int,input().split())\n",
    "for i in range(1,m,2):\n",
    "    print((i*'.|.').center(n,'-'))\n",
    "print('WELCOME'.center(n,'-'))\n",
    "for i in range(m-2,0,-2):\n",
    "    print((i*'.|.').center(n,'-'))\n"
   ]
  },
  {
   "cell_type": "markdown",
   "metadata": {},
   "source": [
    "## Capitalize! "
   ]
  },
  {
   "cell_type": "code",
   "execution_count": 144,
   "metadata": {},
   "outputs": [
    {
     "name": "stdout",
     "output_type": "stream",
     "text": [
      "aaaaaaaaaaaaa\n",
      "Aaaaaaaaaaaaa \n"
     ]
    }
   ],
   "source": [
    "a=input()\n",
    "s=a.split(' ')\n",
    "a1=''\n",
    "for i  in s:\n",
    "    a1=a1+i.capitalize()+' '\n",
    "print(a1)"
   ]
  },
  {
   "cell_type": "markdown",
   "metadata": {},
   "source": [
    "## String Formatting"
   ]
  },
  {
   "cell_type": "code",
   "execution_count": 35,
   "metadata": {},
   "outputs": [
    {
     "name": "stdout",
     "output_type": "stream",
     "text": [
      "99\n",
      "      1       1       1       1\n",
      "      2       2       2      10\n",
      "      3       3       3      11\n",
      "      4       4       4     100\n",
      "      5       5       5     101\n",
      "      6       6       6     110\n",
      "      7       7       7     111\n",
      "      8      10       8    1000\n",
      "      9      11       9    1001\n",
      "     10      12       A    1010\n",
      "     11      13       B    1011\n",
      "     12      14       C    1100\n",
      "     13      15       D    1101\n",
      "     14      16       E    1110\n",
      "     15      17       F    1111\n",
      "     16      20      10   10000\n",
      "     17      21      11   10001\n",
      "     18      22      12   10010\n",
      "     19      23      13   10011\n",
      "     20      24      14   10100\n",
      "     21      25      15   10101\n",
      "     22      26      16   10110\n",
      "     23      27      17   10111\n",
      "     24      30      18   11000\n",
      "     25      31      19   11001\n",
      "     26      32      1A   11010\n",
      "     27      33      1B   11011\n",
      "     28      34      1C   11100\n",
      "     29      35      1D   11101\n",
      "     30      36      1E   11110\n",
      "     31      37      1F   11111\n",
      "     32      40      20  100000\n",
      "     33      41      21  100001\n",
      "     34      42      22  100010\n",
      "     35      43      23  100011\n",
      "     36      44      24  100100\n",
      "     37      45      25  100101\n",
      "     38      46      26  100110\n",
      "     39      47      27  100111\n",
      "     40      50      28  101000\n",
      "     41      51      29  101001\n",
      "     42      52      2A  101010\n",
      "     43      53      2B  101011\n",
      "     44      54      2C  101100\n",
      "     45      55      2D  101101\n",
      "     46      56      2E  101110\n",
      "     47      57      2F  101111\n",
      "     48      60      30  110000\n",
      "     49      61      31  110001\n",
      "     50      62      32  110010\n",
      "     51      63      33  110011\n",
      "     52      64      34  110100\n",
      "     53      65      35  110101\n",
      "     54      66      36  110110\n",
      "     55      67      37  110111\n",
      "     56      70      38  111000\n",
      "     57      71      39  111001\n",
      "     58      72      3A  111010\n",
      "     59      73      3B  111011\n",
      "     60      74      3C  111100\n",
      "     61      75      3D  111101\n",
      "     62      76      3E  111110\n",
      "     63      77      3F  111111\n",
      "     64     100      40 1000000\n",
      "     65     101      41 1000001\n",
      "     66     102      42 1000010\n",
      "     67     103      43 1000011\n",
      "     68     104      44 1000100\n",
      "     69     105      45 1000101\n",
      "     70     106      46 1000110\n",
      "     71     107      47 1000111\n",
      "     72     110      48 1001000\n",
      "     73     111      49 1001001\n",
      "     74     112      4A 1001010\n",
      "     75     113      4B 1001011\n",
      "     76     114      4C 1001100\n",
      "     77     115      4D 1001101\n",
      "     78     116      4E 1001110\n",
      "     79     117      4F 1001111\n",
      "     80     120      50 1010000\n",
      "     81     121      51 1010001\n",
      "     82     122      52 1010010\n",
      "     83     123      53 1010011\n",
      "     84     124      54 1010100\n",
      "     85     125      55 1010101\n",
      "     86     126      56 1010110\n",
      "     87     127      57 1010111\n",
      "     88     130      58 1011000\n",
      "     89     131      59 1011001\n",
      "     90     132      5A 1011010\n",
      "     91     133      5B 1011011\n",
      "     92     134      5C 1011100\n",
      "     93     135      5D 1011101\n",
      "     94     136      5E 1011110\n",
      "     95     137      5F 1011111\n",
      "     96     140      60 1100000\n",
      "     97     141      61 1100001\n",
      "     98     142      62 1100010\n",
      "     99     143      63 1100011\n"
     ]
    }
   ],
   "source": [
    "n=int(input())\n",
    "w=len(str(bin(n).replace('0b','')))\n",
    "for i in range(1,n+1):\n",
    "    a=str(i).rjust(w,' ')\n",
    "    b=oct(i).replace('0o','').rjust(w,' ')\n",
    "    c=hex(i).replace('0x','').upper().rjust(w,' ')\n",
    "    d=bin(i).replace('0b','').rjust(w,' ')\n",
    "    print(a,b,c,d)\n"
   ]
  },
  {
   "cell_type": "markdown",
   "metadata": {},
   "source": [
    "## Alphabet Rangoli "
   ]
  },
  {
   "cell_type": "code",
   "execution_count": 128,
   "metadata": {},
   "outputs": [
    {
     "name": "stdout",
     "output_type": "stream",
     "text": [
      "5\n",
      "['a', 'b', 'c', 'd', 'e']\n",
      "[0, 1, 2, 3, 4, 3, 2, 1, 0]\n",
      "--------e--------\n",
      "------e-d-e------\n",
      "----e-d-c-d-e----\n",
      "--e-d-c-b-c-d-e--\n",
      "e-d-c-b-a-b-c-d-e\n",
      "--e-d-c-b-c-d-e--\n",
      "----e-d-c-d-e----\n",
      "------e-d-e------\n",
      "--------e--------\n"
     ]
    }
   ],
   "source": [
    "n=int(input())\n",
    "a='abcdefghijklmnopqrstuvwxyz'\n",
    "b=[a[i] for i in range(n)]\n",
    "c=list(range(n))\n",
    "c=c[0:n-1]+c[::-1]\n",
    "w=(len(c)*2)-1\n",
    "for i in c:\n",
    "    si=i+1\n",
    "    d=b[-si:]\n",
    "    e=b[-1:-si:-1]\n",
    "    f=e+d\n",
    "    print(('-'.join(f)).center(w,'-'))"
   ]
  },
  {
   "cell_type": "markdown",
   "metadata": {},
   "source": [
    "## Merge the Tools! "
   ]
  },
  {
   "cell_type": "code",
   "execution_count": 165,
   "metadata": {},
   "outputs": [
    {
     "name": "stdout",
     "output_type": "stream",
     "text": [
      "nithinsai\n",
      "2\n",
      "ni\n",
      "th\n",
      "in\n",
      "sa\n",
      "i\n"
     ]
    }
   ],
   "source": [
    "def merge_the_tools(string, k):\n",
    "    for i in range(0, len(string), k):\n",
    "        s = \"\"\n",
    "        for j in string[i : i + k]:\n",
    "            if j not in s:\n",
    "                s += j          \n",
    "        print(s)\n",
    "string=input()\n",
    "k=int(input())\n",
    "merge_the_tools(string,k)\n"
   ]
  },
  {
   "cell_type": "markdown",
   "metadata": {},
   "source": [
    "## The Minion game"
   ]
  },
  {
   "cell_type": "code",
   "execution_count": 2,
   "metadata": {},
   "outputs": [
    {
     "name": "stdout",
     "output_type": "stream",
     "text": [
      "nithinsai\n",
      "Stuart 45\n"
     ]
    }
   ],
   "source": [
    "def minion(string):\n",
    "    vowel =['A','E','I','O','U']\n",
    "    S=0\n",
    "    K=0\n",
    "    for i in range(len(string)):\n",
    "        if string[i] in vowel:\n",
    "            K+= len(string)-i\n",
    "        else:\n",
    "            S+=len(string)-i\n",
    "    if S>K:\n",
    "        print(\"Stuart\",S)\n",
    "    elif K>S:\n",
    "        print(\"Kevin\",K)\n",
    "    else:\n",
    "        print(\"Draw\")\n",
    "minion(input())\n"
   ]
  },
  {
   "cell_type": "code",
   "execution_count": null,
   "metadata": {},
   "outputs": [],
   "source": []
  }
 ],
 "metadata": {
  "kernelspec": {
   "display_name": "Python 3",
   "language": "python",
   "name": "python3"
  },
  "language_info": {
   "codemirror_mode": {
    "name": "ipython",
    "version": 3
   },
   "file_extension": ".py",
   "mimetype": "text/x-python",
   "name": "python",
   "nbconvert_exporter": "python",
   "pygments_lexer": "ipython3",
   "version": "3.8.5"
  }
 },
 "nbformat": 4,
 "nbformat_minor": 4
}
