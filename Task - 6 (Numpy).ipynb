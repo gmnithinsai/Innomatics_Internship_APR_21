{
 "cells": [
  {
   "cell_type": "markdown",
   "id": "0433510f",
   "metadata": {},
   "source": [
    "## Arrays"
   ]
  },
  {
   "cell_type": "code",
   "execution_count": 2,
   "id": "1d05da7a",
   "metadata": {
    "scrolled": true
   },
   "outputs": [
    {
     "name": "stdout",
     "output_type": "stream",
     "text": [
      "2 2\n",
      "1 1\n",
      "2 3\n",
      "[[1 1]\n",
      " [2 3]]\n"
     ]
    }
   ],
   "source": [
    "import numpy as np\n",
    "n=tuple(map(int,input().split()))\n",
    "arr=np.array([input().split() for _ in range(n[-1])],int)\n",
    "print(arr)"
   ]
  },
  {
   "cell_type": "markdown",
   "id": "3fdaba47",
   "metadata": {},
   "source": [
    "## Shape and Reshape"
   ]
  },
  {
   "cell_type": "code",
   "execution_count": 1,
   "id": "ab8f8aa4",
   "metadata": {},
   "outputs": [
    {
     "name": "stdout",
     "output_type": "stream",
     "text": [
      "1 2 3 4 5 6 7 8 9\n",
      "[[1 2 3]\n",
      " [4 5 6]\n",
      " [7 8 9]]\n"
     ]
    }
   ],
   "source": [
    "import numpy as np\n",
    "s=input()\n",
    "a=list(map(int,s.split()))\n",
    "print(np.reshape(np.array(a),(3,3)))\n",
    "\n"
   ]
  },
  {
   "cell_type": "markdown",
   "id": "8134fc2e",
   "metadata": {},
   "source": [
    "## Transpose and Flatten"
   ]
  },
  {
   "cell_type": "code",
   "execution_count": 2,
   "id": "c4e1cc77",
   "metadata": {},
   "outputs": [
    {
     "name": "stdout",
     "output_type": "stream",
     "text": [
      "1 4\n",
      "1 2 3 4\n",
      "[[1]\n",
      " [2]\n",
      " [3]\n",
      " [4]]\n",
      "[1 2 3 4]\n"
     ]
    }
   ],
   "source": [
    "import numpy as np\n",
    "a=input().split()\n",
    "v=[]\n",
    "for _ in range(int(a[0])):\n",
    "    r=input()\n",
    "    s=list(map(int,r.split()))\n",
    "    v.append(s)\n",
    "my_array=np.array(v)\n",
    "print(np.transpose(my_array))\n",
    "print(my_array.flatten())\n",
    "\n"
   ]
  },
  {
   "cell_type": "code",
   "execution_count": null,
   "id": "e9e74ceb",
   "metadata": {},
   "outputs": [],
   "source": []
  },
  {
   "cell_type": "markdown",
   "id": "26d81b5a",
   "metadata": {},
   "source": [
    "## Concatenate"
   ]
  },
  {
   "cell_type": "code",
   "execution_count": 3,
   "id": "42077648",
   "metadata": {},
   "outputs": [
    {
     "name": "stdout",
     "output_type": "stream",
     "text": [
      "1 1\n",
      "1 2 3 4\n",
      "5 6 7 8\n",
      "[[1 2 3 4]\n",
      " [5 6 7 8]]\n"
     ]
    }
   ],
   "source": [
    "import numpy as np\n",
    "a=list(map(int,input().split()))\n",
    "lista=np.array([input().split() for _ in range(a[0])],int)\n",
    "listb=np.array([input().split() for _ in range(a[1])],int)\n",
    "print(np.concatenate((lista,listb),axis=0))\n",
    "\n",
    "\n",
    "\n"
   ]
  },
  {
   "cell_type": "markdown",
   "id": "c1c45645",
   "metadata": {},
   "source": [
    "## Zeros and ones"
   ]
  },
  {
   "cell_type": "code",
   "execution_count": 4,
   "id": "0accaef6",
   "metadata": {
    "scrolled": true
   },
   "outputs": [
    {
     "name": "stdout",
     "output_type": "stream",
     "text": [
      "3 3\n",
      "[[0 0 0]\n",
      " [0 0 0]\n",
      " [0 0 0]]\n",
      "[[1 1 1]\n",
      " [1 1 1]\n",
      " [1 1 1]]\n"
     ]
    },
    {
     "name": "stderr",
     "output_type": "stream",
     "text": [
      "<ipython-input-4-55bf724b2b03>:3: DeprecationWarning: `np.int` is a deprecated alias for the builtin `int`. To silence this warning, use `int` by itself. Doing this will not modify any behavior and is safe. When replacing `np.int`, you may wish to use e.g. `np.int64` or `np.int32` to specify the precision. If you wish to review your current use, check the release note link for additional information.\n",
      "Deprecated in NumPy 1.20; for more details and guidance: https://numpy.org/devdocs/release/1.20.0-notes.html#deprecations\n",
      "  print(np.zeros((a),dtype=np.int))\n",
      "<ipython-input-4-55bf724b2b03>:4: DeprecationWarning: `np.int` is a deprecated alias for the builtin `int`. To silence this warning, use `int` by itself. Doing this will not modify any behavior and is safe. When replacing `np.int`, you may wish to use e.g. `np.int64` or `np.int32` to specify the precision. If you wish to review your current use, check the release note link for additional information.\n",
      "Deprecated in NumPy 1.20; for more details and guidance: https://numpy.org/devdocs/release/1.20.0-notes.html#deprecations\n",
      "  print(np.ones((a),dtype=np.int))\n"
     ]
    }
   ],
   "source": [
    "import numpy as np\n",
    "a=tuple(map(int,input().split()))\n",
    "print(np.zeros((a),dtype=np.int))\n",
    "print(np.ones((a),dtype=np.int))\n",
    "\n",
    "\n"
   ]
  },
  {
   "cell_type": "markdown",
   "id": "68c655b9",
   "metadata": {},
   "source": [
    "## Eye and Identity"
   ]
  },
  {
   "cell_type": "code",
   "execution_count": 5,
   "id": "982b2d48",
   "metadata": {},
   "outputs": [
    {
     "name": "stdout",
     "output_type": "stream",
     "text": [
      "3 3 3\n",
      "[[ 1.  0.  0.]\n",
      " [ 0.  1.  0.]\n",
      " [ 0.  0.  1.]]\n"
     ]
    }
   ],
   "source": [
    "import numpy as np\n",
    "a=list(map(int,input().split()))\n",
    "print(str(np.eye(a[0],a[1])).replace('1.',' 1.').replace('0.',' 0.'))\n",
    "\n",
    "\n"
   ]
  },
  {
   "cell_type": "markdown",
   "id": "2d0f3fef",
   "metadata": {},
   "source": [
    "## Array Mathematics"
   ]
  },
  {
   "cell_type": "code",
   "execution_count": 6,
   "id": "7a284a38",
   "metadata": {},
   "outputs": [
    {
     "name": "stdout",
     "output_type": "stream",
     "text": [
      "1 4\n",
      "1 2 3 4\n",
      "2 3 4 5\n",
      "[[3 5 7 9]]\n",
      "[[-1 -1 -1 -1]]\n",
      "[[ 2  6 12 20]]\n",
      "[[0 0 0 0]]\n",
      "[[1 2 3 4]]\n",
      "[[   1    8   81 1024]]\n"
     ]
    }
   ],
   "source": [
    "import numpy as np\n",
    "x=tuple(map(int,input().split()))\n",
    "i=[]\n",
    "j=[]\n",
    "for _ in range(x[0]):\n",
    "    v=list(map(int,input().split()))\n",
    "    i.append(v)\n",
    "for _ in range(x[0]):\n",
    "    w=list(map(int,input().split()))\n",
    "    j.append(w)\n",
    "   \n",
    "   \n",
    "a=np.array(i).reshape(x)\n",
    "b=np.array(j).reshape(x)\n",
    "print(a+b,a-b,a*b,a//b,a%b,a**b,sep='\\n')\n"
   ]
  },
  {
   "cell_type": "markdown",
   "id": "9f8f6090",
   "metadata": {},
   "source": [
    "## Floor Ceil and rint"
   ]
  },
  {
   "cell_type": "code",
   "execution_count": 8,
   "id": "b690ca22",
   "metadata": {
    "scrolled": true
   },
   "outputs": [
    {
     "name": "stdout",
     "output_type": "stream",
     "text": [
      "1.3 1 4.5\n",
      "[ 1.  1.  4.]\n",
      "[ 2.  1.  5.]\n",
      "[ 1.  1.  4.]\n"
     ]
    }
   ],
   "source": [
    "import numpy as np\n",
    "np.set_printoptions(legacy='1.13')\n",
    "a=list(map(float,input().split()))\n",
    "print(np.floor(a),np.ceil(a),np.rint(a),sep='\\n')\n",
    "\n",
    "\n"
   ]
  },
  {
   "cell_type": "markdown",
   "id": "2f461b2d",
   "metadata": {},
   "source": [
    "## Sum and Prod"
   ]
  },
  {
   "cell_type": "code",
   "execution_count": 9,
   "id": "ee8a1cd8",
   "metadata": {},
   "outputs": [
    {
     "name": "stdout",
     "output_type": "stream",
     "text": [
      "1 4\n",
      "1 2 3 4\n",
      "24\n"
     ]
    }
   ],
   "source": [
    "import numpy as np\n",
    "a=tuple(map(int,input().split()))\n",
    "i=[]\n",
    "for _ in range(a[0]):\n",
    "    x=list(map(int,input().split()))\n",
    "    i.append(x)\n",
    "arr=np.array(i).reshape(a)\n",
    "print(np.prod(np.sum(arr,axis=0)))\n",
    "\n",
    "\n",
    "\n"
   ]
  },
  {
   "cell_type": "markdown",
   "id": "12a7ed8b",
   "metadata": {},
   "source": [
    "## Min and Max"
   ]
  },
  {
   "cell_type": "code",
   "execution_count": 10,
   "id": "5d15a3cf",
   "metadata": {},
   "outputs": [
    {
     "name": "stdout",
     "output_type": "stream",
     "text": [
      "1 4\n",
      "1 2 3 4\n",
      "3 4 5 6\n",
      "4 5 6 7\n",
      "2 3 4 45\n",
      "4\n"
     ]
    }
   ],
   "source": [
    "import numpy as np\n",
    "n=tuple(map(int,input().split()))\n",
    "arr=np.array([input().split() for _ in range(n[-1])],int)\n",
    "print(np.max(np.min(arr,axis=1)))\n",
    "\n",
    "\n",
    "\n"
   ]
  },
  {
   "cell_type": "markdown",
   "id": "ac374498",
   "metadata": {},
   "source": [
    "## Mean Var and Std"
   ]
  },
  {
   "cell_type": "code",
   "execution_count": 11,
   "id": "b84431ba",
   "metadata": {},
   "outputs": [
    {
     "name": "stdout",
     "output_type": "stream",
     "text": [
      "1 1\n",
      "1 2 3 4\n",
      "[ 2.5]\n",
      "[ 0.  0.  0.  0.]\n",
      "1.11803398875\n"
     ]
    }
   ],
   "source": [
    "import numpy as np\n",
    "n=tuple(map(int,input().split()))\n",
    "arr=np.array([input().split() for _ in range(n[-1])],dtype=int)\n",
    "print(np.mean(arr,axis=1),np.var(arr,axis=0),np.around(np.std(arr),11),sep='\\n')\n",
    "\n",
    "\n",
    "\n"
   ]
  },
  {
   "cell_type": "markdown",
   "id": "0c5695d3",
   "metadata": {},
   "source": [
    "## Dot and Cross"
   ]
  },
  {
   "cell_type": "code",
   "execution_count": 13,
   "id": "a5341804",
   "metadata": {},
   "outputs": [
    {
     "name": "stdout",
     "output_type": "stream",
     "text": [
      "2\n",
      "1 2\n",
      "3 4\n",
      "5 6\n",
      "7 8\n",
      "[[19 22]\n",
      " [43 50]]\n"
     ]
    }
   ],
   "source": [
    "import numpy as np\n",
    "n=int(input())\n",
    "arr1=np.array([input().split() for _ in range(n)],int)\n",
    "arr2=np.array([input().split() for _ in range(n)],int)\n",
    "print(np.dot(arr1,arr2))\n",
    "\n",
    "\n"
   ]
  },
  {
   "cell_type": "markdown",
   "id": "8f263c1b",
   "metadata": {},
   "source": [
    "## Inner and Outer"
   ]
  },
  {
   "cell_type": "code",
   "execution_count": 14,
   "id": "14a35863",
   "metadata": {},
   "outputs": [
    {
     "name": "stdout",
     "output_type": "stream",
     "text": [
      "1 2 3 4\n",
      "5 6 7 8\n",
      "70\n",
      "[[ 5  6  7  8]\n",
      " [10 12 14 16]\n",
      " [15 18 21 24]\n",
      " [20 24 28 32]]\n"
     ]
    }
   ],
   "source": [
    "import numpy as np\n",
    "a=np.array(list(map(int,input().split())))\n",
    "b=np.array(list(map(int,input().split())))\n",
    "print(np.inner(a,b))\n",
    "print(np.outer(a,b))\n",
    "\n",
    "\n",
    "\n"
   ]
  },
  {
   "cell_type": "markdown",
   "id": "cfe221aa",
   "metadata": {},
   "source": [
    "## Polynomials"
   ]
  },
  {
   "cell_type": "code",
   "execution_count": 15,
   "id": "e6cb602b",
   "metadata": {},
   "outputs": [
    {
     "name": "stdout",
     "output_type": "stream",
     "text": [
      "1 2 3 4\n",
      "2\n",
      "26.0\n"
     ]
    }
   ],
   "source": [
    "import numpy\n",
    "print(numpy.polyval(list(map(float,input().split())),int(input())))\n",
    "\n"
   ]
  },
  {
   "cell_type": "markdown",
   "id": "f11c4aa4",
   "metadata": {},
   "source": [
    "## Linear Algebra"
   ]
  },
  {
   "cell_type": "code",
   "execution_count": 17,
   "id": "ec5145bf",
   "metadata": {},
   "outputs": [
    {
     "name": "stdout",
     "output_type": "stream",
     "text": [
      "2\n",
      "1 2\n",
      "3 4\n",
      "-2.0\n"
     ]
    }
   ],
   "source": [
    "import numpy as np\n",
    "print(round(np.linalg.det(np.array([input().split() for _ in range(int(input()))],dtype=float)),2))\n"
   ]
  },
  {
   "cell_type": "code",
   "execution_count": null,
   "id": "72484f2a",
   "metadata": {},
   "outputs": [],
   "source": []
  }
 ],
 "metadata": {
  "kernelspec": {
   "display_name": "Python 3",
   "language": "python",
   "name": "python3"
  },
  "language_info": {
   "codemirror_mode": {
    "name": "ipython",
    "version": 3
   },
   "file_extension": ".py",
   "mimetype": "text/x-python",
   "name": "python",
   "nbconvert_exporter": "python",
   "pygments_lexer": "ipython3",
   "version": "3.8.5"
  }
 },
 "nbformat": 4,
 "nbformat_minor": 5
}
