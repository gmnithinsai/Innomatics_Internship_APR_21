{
 "cells": [
  {
   "cell_type": "markdown",
   "id": "e4b0285d",
   "metadata": {},
   "source": [
    "##  Binomial Distribution - I"
   ]
  },
  {
   "cell_type": "code",
   "execution_count": 14,
   "id": "38b5b37d",
   "metadata": {
    "scrolled": true
   },
   "outputs": [
    {
     "name": "stdout",
     "output_type": "stream",
     "text": [
      "1.09 1\n",
      "0.696\n"
     ]
    }
   ],
   "source": [
    "def fact(n):\n",
    "    if n==0:\n",
    "        return 1\n",
    "    else:\n",
    "        return n*fact(n-1)\n",
    "n=6\n",
    "def combination(n,x):\n",
    "    return fact(n)/(fact(x)*fact(n-x))\n",
    "l,r=list(map(float,input().split()))\n",
    "odds=l/r\n",
    "def bin(x,n,p):\n",
    "    return combination(n,x)*(p**x)*((1-p)**(n-x))\n",
    "print(round(sum([bin(i,n,odds/(odds+1)) for i in range(3,7)]),3))\n",
    "\n"
   ]
  },
  {
   "cell_type": "markdown",
   "id": "3ac15388",
   "metadata": {},
   "source": [
    "## Binomial Distribution - II"
   ]
  },
  {
   "cell_type": "code",
   "execution_count": 15,
   "id": "5fa81208",
   "metadata": {},
   "outputs": [
    {
     "name": "stdout",
     "output_type": "stream",
     "text": [
      "12 10\n",
      "0.891\n",
      "0.342\n"
     ]
    }
   ],
   "source": [
    "def fact(n):\n",
    "    if n==0:\n",
    "        return 1\n",
    "    else:\n",
    "        return n*fact(n-1)\n",
    "n=10\n",
    "def combination(n,x):\n",
    "    return fact(n)/(fact(x)*fact(n-x))\n",
    "p,n=list(map(float,input().split()))\n",
    "def bin(x,n,p):\n",
    "    return combination(n,x)*(p**x)*((1-p)**(n-x))\n",
    "print(round(sum([bin(i,n,p/100) for i in range(0,3)]),3))\n",
    "print(round(sum([bin(i,n,p/100) for i in range(2,11)]),3))\n",
    "\n"
   ]
  },
  {
   "cell_type": "markdown",
   "id": "a1322865",
   "metadata": {},
   "source": [
    "## Normal Distribution - I"
   ]
  },
  {
   "cell_type": "code",
   "execution_count": 18,
   "id": "ec94bd1c",
   "metadata": {},
   "outputs": [
    {
     "name": "stdout",
     "output_type": "stream",
     "text": [
      "20 2\n",
      "19.5\n",
      "20 22\n",
      "0.401\n",
      "0.341\n"
     ]
    }
   ],
   "source": [
    "import math\n",
    "m,s=list(map(float,input().split()))\n",
    "x=float(input())\n",
    "a,b=list(map(float,input().split()))\n",
    "def normaldist(x,m,s):\n",
    "    #return (1/(s*(2*3.141592)**0.5))*(2.718)**(-(x-m)/2*(s**2))\n",
    "    return (0.5*(1+math.erf((x-m)/(s*(2**0.5)))))\n",
    "print(round(normaldist(x,m,s),3))\n",
    "print(round(normaldist(b,m,s)-normaldist(a,m,s),3))\n",
    "\n"
   ]
  },
  {
   "cell_type": "markdown",
   "id": "f735b89e",
   "metadata": {},
   "source": [
    "## Normal Distribution - II"
   ]
  },
  {
   "cell_type": "code",
   "execution_count": 19,
   "id": "2e75721f",
   "metadata": {},
   "outputs": [
    {
     "name": "stdout",
     "output_type": "stream",
     "text": [
      "70 10\n",
      "80\n",
      "60\n",
      "15.87\n",
      "84.13\n",
      "15.87\n"
     ]
    }
   ],
   "source": [
    "import math\n",
    "m,s=list(map(float,input().split()))\n",
    "x=float(input())\n",
    "a=float(input())\n",
    "def normaldist(x,m,s):\n",
    "    #return (1/(s*(2*3.141592)**0.5))*(2.718)**(-(x-m)/2*(s**2))\n",
    "    return (0.5*(1+math.erf((x-m)/(s*(2**0.5)))))\n",
    "print(round((1-normaldist(x,m,s))*100,2))\n",
    "p=normaldist(a,m,s)-normaldist(0,m,s)\n",
    "\n",
    "print(round((1-p)*100,2))\n",
    "print(round(p*100,2))\n",
    "\n"
   ]
  },
  {
   "cell_type": "markdown",
   "id": "625bcd2d",
   "metadata": {},
   "source": [
    "## Central Limit Theorem - I"
   ]
  },
  {
   "cell_type": "code",
   "execution_count": 20,
   "id": "f4f51d62",
   "metadata": {},
   "outputs": [
    {
     "name": "stdout",
     "output_type": "stream",
     "text": [
      "9800\n",
      "49\n",
      "205\n",
      "15\n",
      "0.0098\n"
     ]
    }
   ],
   "source": [
    "import math\n",
    "x=float(input())\n",
    "n=float(input())\n",
    "m=float(input())\n",
    "s=float(input())\n",
    "def normaldist(x,m,s):\n",
    "    #return (1/(s*(2*3.141592)**0.5))*(2.718)**(-(x-m)/2*(s**2))\n",
    "    return 0.5*(1+math.erf((x-m)/(s*(2**0.5))))\n",
    "print(round(normaldist(x,n*m,s*(n**0.5)),4))\n"
   ]
  },
  {
   "cell_type": "markdown",
   "id": "cb06f411",
   "metadata": {},
   "source": [
    "## Central Limit Theorem - II"
   ]
  },
  {
   "cell_type": "code",
   "execution_count": 21,
   "id": "9aa16bca",
   "metadata": {},
   "outputs": [
    {
     "name": "stdout",
     "output_type": "stream",
     "text": [
      "250\n",
      "100\n",
      "2.4\n",
      "2.0\n",
      "0.6915\n"
     ]
    }
   ],
   "source": [
    "\n",
    "import math\n",
    "x=float(input())\n",
    "n=float(input())\n",
    "m=float(input())\n",
    "s=float(input())\n",
    "def normaldist(x,m,s):\n",
    "    #return (1/(s*(2*3.141592)**0.5))*(2.718)**(-(x-m)/(2*(s**2)))\n",
    "    return 0.5*(1+math.erf((x-m)/(s*(2**0.5))))\n",
    "print(round(normaldist(x,n*m,s*(n**0.5)),4))\n"
   ]
  },
  {
   "cell_type": "markdown",
   "id": "3f9bb7aa",
   "metadata": {},
   "source": [
    "## Central Limit Theorem - III"
   ]
  },
  {
   "cell_type": "code",
   "execution_count": 1,
   "id": "fcec66d1",
   "metadata": {
    "scrolled": true
   },
   "outputs": [
    {
     "name": "stdout",
     "output_type": "stream",
     "text": [
      "100\n",
      "500\n",
      "80\n",
      "0.96\n",
      "1.96\n",
      "484.32\n",
      "515.68\n"
     ]
    }
   ],
   "source": [
    "import math\n",
    "n=float(input())\n",
    "m=float(input())\n",
    "s=float(input())\n",
    "conf=float(input())\n",
    "z=float(input())\n",
    "print(round(m-(z*(s/(n**0.5))),2))\n",
    "print(round(m+(z*(s/(n**0.5))),2))"
   ]
  },
  {
   "cell_type": "markdown",
   "id": "c2123fa6",
   "metadata": {},
   "source": [
    "## Pearson Correlation Coefficient - I"
   ]
  },
  {
   "cell_type": "code",
   "execution_count": 10,
   "id": "5b8e45a2",
   "metadata": {
    "scrolled": false
   },
   "outputs": [
    {
     "name": "stdout",
     "output_type": "stream",
     "text": [
      "10\n",
      "10 9.8 8 7.8 7.7 7 6 5 4 2\n",
      "200 44 32 24 22 17 15 12 8 4\n",
      "0.717\n"
     ]
    }
   ],
   "source": [
    "n=int(input())\n",
    "x=list(map(float,input().split()))\n",
    "y=list(map(float,input().split()))\n",
    "sums=0\n",
    "sumx=0\n",
    "sumy=0\n",
    "sx,sy=0,0\n",
    "for i in range(n):\n",
    "    sx=sx+x[i]\n",
    "    sy=sy+y[i]\n",
    "    diffx=(x[i]-m_x)\n",
    "    diffy=(y[i]-m_y)\n",
    "    sums=sums+diffx*diffy\n",
    "    sumx=sumx+diffx**2\n",
    "    sumy=sumy+diffy**2\n",
    "m_x=sx/n\n",
    "m_y=sy/n\n",
    "    \n",
    "sd_x=(sumx/n)**0.5\n",
    "sd_y=(sumy/n)**0.5\n",
    "pcc=sums/(n*sd_x*sd_y)\n",
    "print(round(pcc,3))\n",
    "\n"
   ]
  },
  {
   "cell_type": "markdown",
   "id": "5f47d163",
   "metadata": {},
   "source": [
    "## Least square regression line"
   ]
  },
  {
   "cell_type": "code",
   "execution_count": 20,
   "id": "f2d22754",
   "metadata": {},
   "outputs": [
    {
     "name": "stdout",
     "output_type": "stream",
     "text": [
      "95 85\n",
      "85 95\n",
      "80 70\n",
      "70 65\n",
      "60 70\n",
      "78.105\n"
     ]
    }
   ],
   "source": [
    "x,y=[],[]\n",
    "n=5\n",
    "for i in range(n):\n",
    "    a,b=list(map(float,input().split()))\n",
    "    x.append(a)\n",
    "    y.append(b)\n",
    "\n",
    "sums=0\n",
    "sumx=0\n",
    "sumy=0\n",
    "sx,sy=0,0\n",
    "for i in range(n):\n",
    "    sx=sx+x[i]\n",
    "    sy=sy+y[i]\n",
    "    diffx=(x[i]-m_x)\n",
    "    diffy=(y[i]-m_y)\n",
    "    sums=sums+diffx*diffy\n",
    "    sumx=sumx+diffx**2\n",
    "    sumy=sumy+diffy**2\n",
    "m_x=sx/n\n",
    "m_y=sy/n\n",
    "    \n",
    "sd_x=(sumx/n)**0.5\n",
    "sd_y=(sumy/n)**0.5\n",
    "pcc=sums/(n*sd_x*sd_y)\n",
    "b=pcc*(sd_y/sd_x)\n",
    "a=m_y-(b*m_x)\n",
    "print(round(a+(b*80),3))\n",
    "\n"
   ]
  },
  {
   "cell_type": "markdown",
   "id": "28dab0d5",
   "metadata": {},
   "source": [
    "## Multiple Linear Regression"
   ]
  },
  {
   "cell_type": "code",
   "execution_count": null,
   "id": "8edd16a1",
   "metadata": {},
   "outputs": [],
   "source": [
    "import numpy as np\n",
    "m,n=list(map(int,input().split()))\n",
    "x_=[]\n",
    "y_=[]\n",
    "for _ in range(n):\n",
    "    a=list(map(float,input().split()))\n",
    "    x_.append(a[:m])\n",
    "    y_.append(a[m:])\n",
    "x=np.array(x_)\n",
    "y=np.array(y_)\n",
    "X=x-np.mean(x,axis=0)\n",
    "Y=y-np.mean(y)\n",
    "\n",
    "b=np.dot(np.linalg.inv(np.dot(X.T,X)),np.dot(X.T,Y))\n",
    "\n",
    "k=int(input())\n",
    "x_t=[]\n",
    "for i in range(k):\n",
    "    j=list(map(float,input().split()))\n",
    "    x_t.append(j)\n",
    "    \n",
    "X_t=np.array(x_t)\n",
    "X_t_=X_t-np.mean(x,axis=0)\n",
    "Y_t=np.dot(X_t_,b)\n",
    "Y_t_= Y_t+ np.mean(y)\n",
    "for i in Y_t_:\n",
    "    print(round(float(i),2))\n"
   ]
  }
 ],
 "metadata": {
  "kernelspec": {
   "display_name": "Python 3",
   "language": "python",
   "name": "python3"
  },
  "language_info": {
   "codemirror_mode": {
    "name": "ipython",
    "version": 3
   },
   "file_extension": ".py",
   "mimetype": "text/x-python",
   "name": "python",
   "nbconvert_exporter": "python",
   "pygments_lexer": "ipython3",
   "version": "3.8.5"
  }
 },
 "nbformat": 4,
 "nbformat_minor": 5
}
